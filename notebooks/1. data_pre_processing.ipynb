{
 "cells": [
  {
   "attachments": {},
   "cell_type": "markdown",
   "metadata": {},
   "source": [
    "![Taming the TwitterVerse.png](<attachment:Taming the TwitterVerse.png>)"
   ]
  },
  {
   "cell_type": "markdown",
   "metadata": {},
   "source": [
    "## <div style=\"color:white;display:fill;border-radius:8px;background-color:#323232;font-size:150%; letter-spacing:1.0px\"><p style=\"padding: 15px;color:white;\"><b><b><span style='color:white'><span style='color:#F1A424'> | </span> </span></b>Defining the Question</b></p></div>"
   ]
  },
  {
   "cell_type": "markdown",
   "metadata": {},
   "source": [
    "## <b><span style='color:#F1A424'>|</span> Executive Summary:</b> \n",
    "\n",
    "**In the dynamic world of politics, public perception plays a crucial role in shaping the success or failure of a political figure. Leveraging the power of social media, particularly Twitter, has become an indispensable tool for political leaders to connect with their constituents, gauge public sentiment, and build a strong brand identity. However, effectively managing and understanding the vast amount of data generated on Twitter can be a daunting task. This is where Twitter sentiment analysis using NLP (Natural Language Processing) emerges as a powerful solution.**"
   ]
  },
  {
   "cell_type": "markdown",
   "metadata": {},
   "source": [
    "## <b><span style='color:#F1A424'>|</span> Problem Statement:</b> \n",
    "\n",
    "**Our client, a prominent political figure, seeks to enhance their brand reputation and strengthen their connection with their followers on Twitter. They recognize the importance of understanding public sentiment and identifying emerging trends in online conversations. However, manually analyzing the sheer volume of tweets directed at their account is a time-consuming and resource-intensive endeavor.**"
   ]
  },
  {
   "cell_type": "markdown",
   "metadata": {},
   "source": [
    "## <b><span style='color:#F1A424'>|</span> Proposed Solution:</b> \n",
    "\n",
    "**We propose implementing a Twitter sentiment analysis NLP project to automatically extract and analyze sentiment from tweets directed from the client's Twitter account. This solution will provide valuable insights into the public's perception of the client's policies, actions, and overall brand image.**"
   ]
  },
  {
   "cell_type": "markdown",
   "metadata": {},
   "source": [
    "## <b><span style='color:#F1A424'>|</span> Data Pertinence and Attribution:</b> \n",
    "\n",
    "**Data Source:**\n",
    "\n",
    "- Twitter account: Dr. Miguna Miguna (@MigunaMiguna)\n",
    "- Date range: January 1, 2019 - April 28, 2022\n",
    "- Number of tweets: 43,479\n",
    "- Data collection method: Twint, an unofficial Twitter scraper.\n",
    "- Dataset Link: https://1drv.ms/u/s!Ai_PPIpft10FsDSw2ufEeAfxx8u4?e=c6ebBe\n"
   ]
  },
  {
   "cell_type": "markdown",
   "metadata": {},
   "source": [
    "## <div style=\"color:white;display:fill;border-radius:8px;background-color:#323232;font-size:150%; letter-spacing:1.0px\"><p style=\"padding: 12px;color:white;\"><b><b><span style='color:white'><span style='color:#F1A424'>1 |</span></span></b>Data Loading & Preparation</b></p></div>"
   ]
  },
  {
   "cell_type": "markdown",
   "metadata": {},
   "source": [
    "## <b>1.1 <span style='color:#F1A424'>|</span> Importing Necessary Libraries</b> "
   ]
  },
  {
   "cell_type": "code",
   "execution_count": 1,
   "metadata": {},
   "outputs": [],
   "source": [
    "import re\n",
    "import string\n",
    "import numpy as np\n",
    "import random\n",
    "import pandas as pd\n",
    "import matplotlib.pyplot as plt\n",
    "import seaborn as sns  #plotting statistical graphs\n",
    "%matplotlib inline\n",
    "from plotly import graph_objs as go\n",
    "import plotly.express as px\n",
    "import plotly.figure_factory as ff\n",
    "import squarify\n",
    "from collections import Counter\n",
    "\n",
    "# Load the Text Cleaning Package\n",
    "import neattext.functions as nfx\n",
    "\n",
    "from PIL import Image\n",
    "from wordcloud import WordCloud, STOPWORDS, ImageColorGenerator ##is a data visualization technique used\n",
    "#for representing text data in which the size of each word indicates its frequency\n",
    "\n",
    "from sklearn.linear_model import LogisticRegression\n",
    "from sklearn import metrics\n",
    "from sklearn.metrics import confusion_matrix,roc_auc_score,classification_report\n",
    "from sklearn.compose import ColumnTransformer\n",
    "\n",
    "from sklearn.linear_model import LogisticRegression\n",
    "from sklearn.neighbors import KNeighborsClassifier\n",
    "from sklearn.tree import DecisionTreeClassifier\n",
    "from sklearn.ensemble import RandomForestClassifier,AdaBoostClassifier,GradientBoostingClassifier,ExtraTreesClassifier\n",
    "from sklearn.linear_model import RidgeClassifier,SGDClassifier\n",
    "from sklearn.svm import SVC\n",
    "from sklearn.naive_bayes import MultinomialNB\n",
    "\n",
    "\n",
    "import nltk\n",
    "from nltk.corpus import stopwords\n",
    "\n",
    "from tqdm import tqdm ##new progress bars repeatedly\n",
    "import os\n",
    "import nltk ##building Python programs to work with human language data\n",
    "#import spacy #for training the NER model tokenize words\n",
    "#import random\n",
    "#from spacy.util import compounding\n",
    "#from spacy.util import minibatch\n",
    "\n",
    "\n",
    "pd.set_option('max_colwidth', 400)\n",
    "pd.set_option('use_mathjax', False)\n",
    "\n",
    "\n",
    "import warnings\n",
    "warnings.filterwarnings(\"ignore\")"
   ]
  },
  {
   "cell_type": "markdown",
   "metadata": {},
   "source": [
    "## <b>1.2 <span style='color:#F1A424'>|</span>Loading in our Data</b> "
   ]
  },
  {
   "cell_type": "code",
   "execution_count": 2,
   "metadata": {},
   "outputs": [
    {
     "data": {
      "text/html": [
       "<div>\n",
       "<style scoped>\n",
       "    .dataframe tbody tr th:only-of-type {\n",
       "        vertical-align: middle;\n",
       "    }\n",
       "\n",
       "    .dataframe tbody tr th {\n",
       "        vertical-align: top;\n",
       "    }\n",
       "\n",
       "    .dataframe thead th {\n",
       "        text-align: right;\n",
       "    }\n",
       "</style>\n",
       "<table border=\"1\" class=\"dataframe tex2jax_ignore\">\n",
       "  <thead>\n",
       "    <tr style=\"text-align: right;\">\n",
       "      <th></th>\n",
       "      <th>id</th>\n",
       "      <th>date</th>\n",
       "      <th>username</th>\n",
       "      <th>tweet</th>\n",
       "    </tr>\n",
       "  </thead>\n",
       "  <tbody>\n",
       "    <tr>\n",
       "      <th>0</th>\n",
       "      <td>1519644754077753344</td>\n",
       "      <td>2022-04-28</td>\n",
       "      <td>migunamiguna</td>\n",
       "      <td>Despot Uhuru Kenyatta's olympian performance is in drinking and LOOTING DENS and FUNERAL committees of fallen thieves, tribalists and dictators. That's his 10 year legacy. Kenyans must and will remember and punish him for that dubious legacy on August 9th.   #RejectRailaOdinga</td>\n",
       "    </tr>\n",
       "    <tr>\n",
       "      <th>1</th>\n",
       "      <td>1519642090862432258</td>\n",
       "      <td>2022-04-28</td>\n",
       "      <td>migunamiguna</td>\n",
       "      <td>President @NelsonHavi has been my lawyer. We don't agree on many issues. However, he will be the BEST MP for Westlands. Tim Wanyonyi may be a good man. But he is a COWARD and has never LEGISLATED in Parliament. Parliament DESERVES eloquent and brilliant WARRIORS like @NelsonHavi.</td>\n",
       "    </tr>\n",
       "    <tr>\n",
       "      <th>2</th>\n",
       "      <td>1519350946161217537</td>\n",
       "      <td>2022-04-27</td>\n",
       "      <td>migunamiguna</td>\n",
       "      <td>You have alleged that Ruto has stolen more than Uhuru Kenyatta. #PandoraPapers disclose that Uhuru Kenyatta has stolen and stashed more than Sh 2.5 TRILLION in 9 nine years. From your argument, it implies that Ruto is a trillionaire. Is he broke or genuinely mourning?</td>\n",
       "    </tr>\n",
       "    <tr>\n",
       "      <th>3</th>\n",
       "      <td>1519348400671633413</td>\n",
       "      <td>2022-04-27</td>\n",
       "      <td>migunamiguna</td>\n",
       "      <td>@senator047 @StateHouseKenya Where is credible evidence that it's him? Show a time-stamped image with him inside the vehicle.</td>\n",
       "    </tr>\n",
       "    <tr>\n",
       "      <th>4</th>\n",
       "      <td>1519335863456518144</td>\n",
       "      <td>2022-04-27</td>\n",
       "      <td>migunamiguna</td>\n",
       "      <td>@FredrickOwok @elonmusk My Tweet did not say that some white people are not homeless?</td>\n",
       "    </tr>\n",
       "  </tbody>\n",
       "</table>\n",
       "</div>"
      ],
      "text/plain": [
       "                    id        date      username  \\\n",
       "0  1519644754077753344  2022-04-28  migunamiguna   \n",
       "1  1519642090862432258  2022-04-28  migunamiguna   \n",
       "2  1519350946161217537  2022-04-27  migunamiguna   \n",
       "3  1519348400671633413  2022-04-27  migunamiguna   \n",
       "4  1519335863456518144  2022-04-27  migunamiguna   \n",
       "\n",
       "                                                                                                                                                                                                                                                                                      tweet  \n",
       "0     Despot Uhuru Kenyatta's olympian performance is in drinking and LOOTING DENS and FUNERAL committees of fallen thieves, tribalists and dictators. That's his 10 year legacy. Kenyans must and will remember and punish him for that dubious legacy on August 9th.   #RejectRailaOdinga  \n",
       "1  President @NelsonHavi has been my lawyer. We don't agree on many issues. However, he will be the BEST MP for Westlands. Tim Wanyonyi may be a good man. But he is a COWARD and has never LEGISLATED in Parliament. Parliament DESERVES eloquent and brilliant WARRIORS like @NelsonHavi.  \n",
       "2              You have alleged that Ruto has stolen more than Uhuru Kenyatta. #PandoraPapers disclose that Uhuru Kenyatta has stolen and stashed more than Sh 2.5 TRILLION in 9 nine years. From your argument, it implies that Ruto is a trillionaire. Is he broke or genuinely mourning?  \n",
       "3                                                                                                                                                             @senator047 @StateHouseKenya Where is credible evidence that it's him? Show a time-stamped image with him inside the vehicle.  \n",
       "4                                                                                                                                                                                                     @FredrickOwok @elonmusk My Tweet did not say that some white people are not homeless?  "
      ]
     },
     "execution_count": 2,
     "metadata": {},
     "output_type": "execute_result"
    }
   ],
   "source": [
    "# load the dataset -> feature extraction -> data visualization -> data cleaning -> train test split\n",
    "# -> model building -> model training -> model evaluation -> model saving -> streamlit application deploy\n",
    "\n",
    "# load the dataset just using specific features\n",
    "df = pd.read_csv(r'D:\\Natural Language Processing\\Phase 4 Project\\data\\miguna_latest.csv', usecols=['id', 'date', 'username', 'tweet'])\n",
    "\n",
    "df.head()"
   ]
  },
  {
   "cell_type": "markdown",
   "metadata": {},
   "source": [
    "## <div style=\"color:white;display:fill;border-radius:8px;background-color:#323232;font-size:150%; letter-spacing:1.0px\"><p style=\"padding: 12px;color:white;\"><b><b><span style='color:white'><span style='color:#F1A424'>2 |</span></span></b> Data Quality Checks</b></p></div>\n",
    "   \n",
    "- **Another crucial step in any project involves ensuring the quality of your data. Remember that your model’s performance is directly tied to the data it processes. Therefore, take the time to remove duplicates and handle missing values appropriately.**\n",
    "\n",
    "- **Here we always check for missing values, outliers and remove any unnecessary variables/features/columns. Since we have text data, outliers cannot be checked.**"
   ]
  },
  {
   "cell_type": "code",
   "execution_count": 3,
   "metadata": {},
   "outputs": [
    {
     "name": "stdout",
     "output_type": "stream",
     "text": [
      "<class 'pandas.core.frame.DataFrame'>\n",
      "RangeIndex: 43478 entries, 0 to 43477\n",
      "Data columns (total 4 columns):\n",
      " #   Column    Non-Null Count  Dtype \n",
      "---  ------    --------------  ----- \n",
      " 0   id        43478 non-null  int64 \n",
      " 1   date      43478 non-null  object\n",
      " 2   username  43478 non-null  object\n",
      " 3   tweet     43478 non-null  object\n",
      "dtypes: int64(1), object(3)\n",
      "memory usage: 1.3+ MB\n"
     ]
    }
   ],
   "source": [
    "df.info()"
   ]
  },
  {
   "cell_type": "markdown",
   "metadata": {},
   "source": [
    "## <b>2.1 <span style='color:#F1A424'>|</span> Checking for NaN Values</b> "
   ]
  },
  {
   "cell_type": "code",
   "execution_count": 4,
   "metadata": {},
   "outputs": [
    {
     "name": "stdout",
     "output_type": "stream",
     "text": [
      "id          0\n",
      "date        0\n",
      "username    0\n",
      "tweet       0\n",
      "dtype: int64\n",
      "****************************************\n"
     ]
    }
   ],
   "source": [
    "print(df.isna().sum())\n",
    "print(\"*\"*40)"
   ]
  },
  {
   "cell_type": "markdown",
   "metadata": {},
   "source": [
    "**As noted earlier, we don not have any null values.**"
   ]
  },
  {
   "cell_type": "markdown",
   "metadata": {},
   "source": [
    "## <b>2.2 <span style='color:#F1A424'>|</span> Checking for Sentence Length Consistency</b> "
   ]
  },
  {
   "cell_type": "code",
   "execution_count": 5,
   "metadata": {},
   "outputs": [
    {
     "data": {
      "text/plain": [
       "tweet\n",
       "280    2222\n",
       "279    1555\n",
       "278    1504\n",
       "277    1297\n",
       "276    1166\n",
       "       ... \n",
       "458       2\n",
       "479       2\n",
       "421       2\n",
       "369       2\n",
       "370       2\n",
       "Name: count, Length: 440, dtype: int64"
      ]
     },
     "execution_count": 5,
     "metadata": {},
     "output_type": "execute_result"
    }
   ],
   "source": [
    "df['tweet'].apply(len).value_counts()"
   ]
  },
  {
   "cell_type": "markdown",
   "metadata": {},
   "source": [
    "**This can give you an overview of the number of words per tweet. We also notice that some consist of less then five words hence won't be instrumental in constructing our predictive model.**"
   ]
  },
  {
   "cell_type": "code",
   "execution_count": 6,
   "metadata": {},
   "outputs": [
    {
     "data": {
      "text/plain": [
       "(43464, 14)"
      ]
     },
     "execution_count": 6,
     "metadata": {},
     "output_type": "execute_result"
    }
   ],
   "source": [
    "sum(df['tweet'].apply(len) > 5) , sum(df['tweet'].apply(len) <= 5)"
   ]
  },
  {
   "cell_type": "markdown",
   "metadata": {},
   "source": [
    "**We have `43464` tweets with characters gretaer than 5 and only `14` tweets with characters less than 5 characters.**"
   ]
  },
  {
   "cell_type": "code",
   "execution_count": 7,
   "metadata": {},
   "outputs": [
    {
     "name": "stdout",
     "output_type": "stream",
     "text": [
      "Shape of the dataset before filtering:\n",
      "(43478, 4)\n",
      "****************************************\n",
      "Shape of the dataset after filtering:\n",
      "(43464, 4)\n"
     ]
    }
   ],
   "source": [
    "print(\"Shape of the dataset before filtering:\")\n",
    "print(df.shape)\n",
    "print(\"*\"*40)\n",
    "df = df[df['tweet'].apply(len) > 5]\n",
    "print(\"Shape of the dataset after filtering:\")\n",
    "print(df.shape)"
   ]
  },
  {
   "cell_type": "markdown",
   "metadata": {},
   "source": [
    "## <b>2.3 <span style='color:#F1A424'>|</span> Checking for Duplicates</b> "
   ]
  },
  {
   "cell_type": "code",
   "execution_count": 8,
   "metadata": {},
   "outputs": [
    {
     "name": "stdout",
     "output_type": "stream",
     "text": [
      "21772\n",
      "****************************************\n"
     ]
    }
   ],
   "source": [
    "print(df.duplicated().sum())\n",
    "print(\"*\"*40)"
   ]
  },
  {
   "cell_type": "markdown",
   "metadata": {},
   "source": [
    "**We will have to check if indeed these are duplicate values.**"
   ]
  },
  {
   "cell_type": "code",
   "execution_count": 9,
   "metadata": {},
   "outputs": [
    {
     "data": {
      "text/html": [
       "<div>\n",
       "<style scoped>\n",
       "    .dataframe tbody tr th:only-of-type {\n",
       "        vertical-align: middle;\n",
       "    }\n",
       "\n",
       "    .dataframe tbody tr th {\n",
       "        vertical-align: top;\n",
       "    }\n",
       "\n",
       "    .dataframe thead th {\n",
       "        text-align: right;\n",
       "    }\n",
       "</style>\n",
       "<table border=\"1\" class=\"dataframe tex2jax_ignore\">\n",
       "  <thead>\n",
       "    <tr style=\"text-align: right;\">\n",
       "      <th></th>\n",
       "      <th>id</th>\n",
       "      <th>date</th>\n",
       "      <th>username</th>\n",
       "      <th>tweet</th>\n",
       "    </tr>\n",
       "  </thead>\n",
       "  <tbody>\n",
       "    <tr>\n",
       "      <th>8275</th>\n",
       "      <td>1257708489813700618</td>\n",
       "      <td>2020-05-05</td>\n",
       "      <td>migunamiguna</td>\n",
       "      <td>@nyarondigo @RickMakan You are a disgrace even to your chickens, Baboon. Get off my TL.</td>\n",
       "    </tr>\n",
       "    <tr>\n",
       "      <th>5719</th>\n",
       "      <td>1303140942510206976</td>\n",
       "      <td>2020-09-08</td>\n",
       "      <td>migunamiguna</td>\n",
       "      <td>Despot Uhuru Kenyatta must pack up and prepare to go to jail for 650 years together with his UGLY LOOTING CRIMINAL MOTHER NGINA. That's not vulgar. That's not an insult. It is the TRUTH. Anyone who doesn't like it should unfollow me and stop reading my Tweets. #UhuruMustGo</td>\n",
       "    </tr>\n",
       "    <tr>\n",
       "      <th>18374</th>\n",
       "      <td>1128682976789827584</td>\n",
       "      <td>2019-05-15</td>\n",
       "      <td>migunamiguna</td>\n",
       "      <td>@thiararapeter @ochieng_gilbert @RailaOdinga @WilliamsRuto @FredMatiangi @Wetangulam @skmusyoka @MikeSonko @INTERPOL_HQ I've only been on the side of truth, integrity and justice. But you confuse that with being \"pro\" or \"anti\" Raila. Raila is not a AN IDEA or a CAUSE. He is a PERSON. He is the one who surrendered to Uhuru not me. Surrender gave him handcheque while I've been tortured and exiled.</td>\n",
       "    </tr>\n",
       "    <tr>\n",
       "      <th>14108</th>\n",
       "      <td>1180952167152324608</td>\n",
       "      <td>2019-10-06</td>\n",
       "      <td>migunamiguna</td>\n",
       "      <td>@anderearden There is no contradiction.  Citizenship by birth is not the same as citizenship by naturalization. Some of you are too thick to understand anything.</td>\n",
       "    </tr>\n",
       "    <tr>\n",
       "      <th>32245</th>\n",
       "      <td>1229558832835235840</td>\n",
       "      <td>2020-02-18</td>\n",
       "      <td>migunamiguna</td>\n",
       "      <td>@DCI_Kenya Instead of Kabura's gunny sacks, the crooks simply TRANSFERRED the hundreds of millions of public funds into his accounts. No services rendered. No goods sold. Cold-blooded theft. Just like Humphrey Kariuki, a former Treasury messenger who stole billions from Kenyans.</td>\n",
       "    </tr>\n",
       "    <tr>\n",
       "      <th>14008</th>\n",
       "      <td>1183028549256695808</td>\n",
       "      <td>2019-10-12</td>\n",
       "      <td>migunamiguna</td>\n",
       "      <td>....That's what FORENSIC EXAMINERS do. They are not eye witnesses to deaths they solve. We didn't have to be on the Ferry in Mombasa to establish what happened to Amanda and Mariam.  Let's find solutions to Kenya's problems using BRAINS that FUNCTION.  #DespotsMustFall</td>\n",
       "    </tr>\n",
       "    <tr>\n",
       "      <th>33506</th>\n",
       "      <td>1213909933151920129</td>\n",
       "      <td>2020-01-05</td>\n",
       "      <td>migunamiguna</td>\n",
       "      <td>Don't allow anyone to discourage, distract, compromise or sabotage our liberation and freedom struggle. The organized cabals and so-called dynastic families such as the Kenyatta, Moi and Odinga Families have messed up Kenya and plundered our resources for 56 years. Say #Enough!</td>\n",
       "    </tr>\n",
       "    <tr>\n",
       "      <th>21674</th>\n",
       "      <td>1082387044230483972</td>\n",
       "      <td>2019-01-07</td>\n",
       "      <td>migunamiguna</td>\n",
       "      <td>Heroes fight against oppression. Anyone who surrenders and joins an authoritarian regime like @UKenyatta's rogue regime is not a hero. Those comparing @RailaOdinga's horrible betrayal of the struggle to heroism are like those who consider home-guards of the colonialists heroes.</td>\n",
       "    </tr>\n",
       "    <tr>\n",
       "      <th>4668</th>\n",
       "      <td>1361660948038250499</td>\n",
       "      <td>2021-02-16</td>\n",
       "      <td>migunamiguna</td>\n",
       "      <td>You nailed it, @waikwawanyoike. Waiganjo's verbiage is embarrassing, especially for one who sat at the Committee of Experts. Hopeless like Ekuru Aukot and Otiende Amolo - 2 other Tumbo pseudo-intellectuals. #CartelsMustFall</td>\n",
       "    </tr>\n",
       "    <tr>\n",
       "      <th>20139</th>\n",
       "      <td>1105548520654811138</td>\n",
       "      <td>2019-03-12</td>\n",
       "      <td>migunamiguna</td>\n",
       "      <td>Poverty, joblessness, brutality, tribalism and murder have been used to inflict fear and division among the 99.9% of Kenyans in order to prevent a revolution. The Burkinabe used these instruments of fear to ENERGIZE their revolution. Kenyans must do so, too. #NationalOilScandals</td>\n",
       "    </tr>\n",
       "  </tbody>\n",
       "</table>\n",
       "</div>"
      ],
      "text/plain": [
       "                        id        date      username  \\\n",
       "8275   1257708489813700618  2020-05-05  migunamiguna   \n",
       "5719   1303140942510206976  2020-09-08  migunamiguna   \n",
       "18374  1128682976789827584  2019-05-15  migunamiguna   \n",
       "14108  1180952167152324608  2019-10-06  migunamiguna   \n",
       "32245  1229558832835235840  2020-02-18  migunamiguna   \n",
       "14008  1183028549256695808  2019-10-12  migunamiguna   \n",
       "33506  1213909933151920129  2020-01-05  migunamiguna   \n",
       "21674  1082387044230483972  2019-01-07  migunamiguna   \n",
       "4668   1361660948038250499  2021-02-16  migunamiguna   \n",
       "20139  1105548520654811138  2019-03-12  migunamiguna   \n",
       "\n",
       "                                                                                                                                                                                                                                                                                                                                                                                                                 tweet  \n",
       "8275                                                                                                                                                                                                                                                                                                                           @nyarondigo @RickMakan You are a disgrace even to your chickens, Baboon. Get off my TL.  \n",
       "5719                                                                                                                                 Despot Uhuru Kenyatta must pack up and prepare to go to jail for 650 years together with his UGLY LOOTING CRIMINAL MOTHER NGINA. That's not vulgar. That's not an insult. It is the TRUTH. Anyone who doesn't like it should unfollow me and stop reading my Tweets. #UhuruMustGo  \n",
       "18374  @thiararapeter @ochieng_gilbert @RailaOdinga @WilliamsRuto @FredMatiangi @Wetangulam @skmusyoka @MikeSonko @INTERPOL_HQ I've only been on the side of truth, integrity and justice. But you confuse that with being \"pro\" or \"anti\" Raila. Raila is not a AN IDEA or a CAUSE. He is a PERSON. He is the one who surrendered to Uhuru not me. Surrender gave him handcheque while I've been tortured and exiled.  \n",
       "14108                                                                                                                                                                                                                                                @anderearden There is no contradiction.  Citizenship by birth is not the same as citizenship by naturalization. Some of you are too thick to understand anything.  \n",
       "32245                                                                                                                          @DCI_Kenya Instead of Kabura's gunny sacks, the crooks simply TRANSFERRED the hundreds of millions of public funds into his accounts. No services rendered. No goods sold. Cold-blooded theft. Just like Humphrey Kariuki, a former Treasury messenger who stole billions from Kenyans.  \n",
       "14008                                                                                                                                    ....That's what FORENSIC EXAMINERS do. They are not eye witnesses to deaths they solve. We didn't have to be on the Ferry in Mombasa to establish what happened to Amanda and Mariam.  Let's find solutions to Kenya's problems using BRAINS that FUNCTION.  #DespotsMustFall  \n",
       "33506                                                                                                                           Don't allow anyone to discourage, distract, compromise or sabotage our liberation and freedom struggle. The organized cabals and so-called dynastic families such as the Kenyatta, Moi and Odinga Families have messed up Kenya and plundered our resources for 56 years. Say #Enough!  \n",
       "21674                                                                                                                           Heroes fight against oppression. Anyone who surrenders and joins an authoritarian regime like @UKenyatta's rogue regime is not a hero. Those comparing @RailaOdinga's horrible betrayal of the struggle to heroism are like those who consider home-guards of the colonialists heroes.  \n",
       "4668                                                                                                                                                                                   You nailed it, @waikwawanyoike. Waiganjo's verbiage is embarrassing, especially for one who sat at the Committee of Experts. Hopeless like Ekuru Aukot and Otiende Amolo - 2 other Tumbo pseudo-intellectuals. #CartelsMustFall  \n",
       "20139                                                                                                                          Poverty, joblessness, brutality, tribalism and murder have been used to inflict fear and division among the 99.9% of Kenyans in order to prevent a revolution. The Burkinabe used these instruments of fear to ENERGIZE their revolution. Kenyans must do so, too. #NationalOilScandals  "
      ]
     },
     "execution_count": 9,
     "metadata": {},
     "output_type": "execute_result"
    }
   ],
   "source": [
    "# checking if the duolicate values are indeed duplicates\n",
    "df[df.duplicated(subset=['tweet'],keep=False)].sort_values(by='tweet').sample(10)"
   ]
  },
  {
   "cell_type": "code",
   "execution_count": 10,
   "metadata": {},
   "outputs": [
    {
     "data": {
      "text/html": [
       "<div>\n",
       "<style scoped>\n",
       "    .dataframe tbody tr th:only-of-type {\n",
       "        vertical-align: middle;\n",
       "    }\n",
       "\n",
       "    .dataframe tbody tr th {\n",
       "        vertical-align: top;\n",
       "    }\n",
       "\n",
       "    .dataframe thead th {\n",
       "        text-align: right;\n",
       "    }\n",
       "</style>\n",
       "<table border=\"1\" class=\"dataframe tex2jax_ignore\">\n",
       "  <thead>\n",
       "    <tr style=\"text-align: right;\">\n",
       "      <th></th>\n",
       "      <th>id</th>\n",
       "      <th>date</th>\n",
       "      <th>username</th>\n",
       "      <th>tweet</th>\n",
       "    </tr>\n",
       "  </thead>\n",
       "  <tbody>\n",
       "    <tr>\n",
       "      <th>20988</th>\n",
       "      <td>1094014959636410368</td>\n",
       "      <td>2019-02-08</td>\n",
       "      <td>migunamiguna</td>\n",
       "      <td>Salute!</td>\n",
       "    </tr>\n",
       "    <tr>\n",
       "      <th>42687</th>\n",
       "      <td>1094014959636410368</td>\n",
       "      <td>2019-02-08</td>\n",
       "      <td>migunamiguna</td>\n",
       "      <td>Salute!</td>\n",
       "    </tr>\n",
       "  </tbody>\n",
       "</table>\n",
       "</div>"
      ],
      "text/plain": [
       "                        id        date      username    tweet\n",
       "20988  1094014959636410368  2019-02-08  migunamiguna  Salute!\n",
       "42687  1094014959636410368  2019-02-08  migunamiguna  Salute!"
      ]
     },
     "execution_count": 10,
     "metadata": {},
     "output_type": "execute_result"
    }
   ],
   "source": [
    "df[df['id'] == 1094014959636410368]"
   ]
  },
  {
   "cell_type": "markdown",
   "metadata": {},
   "source": [
    "**We can see that the dataset does indeed contain entries that are duplicate tweets. We will go ahead and drop these duplicate entries although the number of duolicates `21772` accounts for almost half of our data.**"
   ]
  },
  {
   "cell_type": "code",
   "execution_count": 11,
   "metadata": {},
   "outputs": [
    {
     "name": "stdout",
     "output_type": "stream",
     "text": [
      "0\n",
      "****************************************\n"
     ]
    }
   ],
   "source": [
    "df = df.drop_duplicates()\n",
    "\n",
    "print(df.duplicated().sum())\n",
    "print(\"*\"*40)"
   ]
  },
  {
   "cell_type": "code",
   "execution_count": 12,
   "metadata": {},
   "outputs": [
    {
     "name": "stdout",
     "output_type": "stream",
     "text": [
      "<class 'pandas.core.frame.DataFrame'>\n",
      "Index: 21692 entries, 0 to 21778\n",
      "Data columns (total 4 columns):\n",
      " #   Column    Non-Null Count  Dtype \n",
      "---  ------    --------------  ----- \n",
      " 0   id        21692 non-null  int64 \n",
      " 1   date      21692 non-null  object\n",
      " 2   username  21692 non-null  object\n",
      " 3   tweet     21692 non-null  object\n",
      "dtypes: int64(1), object(3)\n",
      "memory usage: 847.3+ KB\n"
     ]
    }
   ],
   "source": [
    "df.info()"
   ]
  },
  {
   "cell_type": "markdown",
   "metadata": {},
   "source": [
    "## <div style=\"color:white;display:fill;border-radius:8px;background-color:#323232;font-size:150%; letter-spacing:1.0px\"><p style=\"padding: 12px;color:white;\"><b><b><span style='color:white'><span style='color:#F1A424'>3 |</span></span></b> Data Preprocessing</b></p></div>\n",
    "\n",
    "- **Preprocessing procedures are tokenizing(spliting),stemming and lemmatization which are dependent on the model you choose to use.**"
   ]
  },
  {
   "cell_type": "markdown",
   "metadata": {},
   "source": [
    "## <b>3.1 <span style='color:#F1A424'>|</span> Text Cleaning (Source Text)</b> \n",
    "+ Mentions / User handles\n",
    "+ Hashtags\n",
    "+ URLs\n",
    "+ Special Characters\n",
    "+ Whitespaces\n",
    "+ Emojis\n",
    "+ Contractions\n",
    "+ Stopwords\n",
    "\n",
    "**For cleaning our text we will be using the NeatText Library. NeatText is a simple NLP package for cleaning textual data and text preprocessing. It offers a variety of features for cleaning unstructured text data, reducing noise (such as special characters and stopwords), and extracting specific information from the text. It can be used via an object-oriented approach or a functional/method-oriented approach, providing flexibility in its usage. The package includes classes such as TextCleaner, TextExtractor, and TextMetrics for different text processing tasks.**\n",
    "\n",
    "https://pypi.org/project/neattext/"
   ]
  },
  {
   "cell_type": "code",
   "execution_count": 13,
   "metadata": {},
   "outputs": [
    {
     "data": {
      "text/plain": [
       "['AUTOMATED_READ_INDEX',\n",
       " 'BTC_ADDRESS_REGEX',\n",
       " 'CONTRACTIONS_DICT',\n",
       " 'CURRENCY_REGEX',\n",
       " 'CURRENCY_SYMB_REGEX',\n",
       " 'Callable',\n",
       " 'Counter',\n",
       " 'CreditCard_REGEX',\n",
       " 'DATE_REGEX',\n",
       " 'EMAIL_REGEX',\n",
       " 'EMOJI_REGEX',\n",
       " 'FUNCTORS_WORDLIST',\n",
       " 'HASTAG_REGEX',\n",
       " 'HTML_TAGS_REGEX',\n",
       " 'List',\n",
       " 'MASTERCard_REGEX',\n",
       " 'MD5_SHA_REGEX',\n",
       " 'MOST_COMMON_PUNCT_REGEX',\n",
       " 'NUMBERS_REGEX',\n",
       " 'PHONE_REGEX',\n",
       " 'PUNCT_REGEX',\n",
       " 'PoBOX_REGEX',\n",
       " 'SPECIAL_CHARACTERS_REGEX',\n",
       " 'STOPWORDS',\n",
       " 'STOPWORDS_de',\n",
       " 'STOPWORDS_en',\n",
       " 'STOPWORDS_es',\n",
       " 'STOPWORDS_fr',\n",
       " 'STOPWORDS_ru',\n",
       " 'STOPWORDS_yo',\n",
       " 'STREET_ADDRESS_REGEX',\n",
       " 'TextCleaner',\n",
       " 'TextExtractor',\n",
       " 'TextFrame',\n",
       " 'TextMetrics',\n",
       " 'TextPipeline',\n",
       " 'Tuple',\n",
       " 'URL_PATTERN',\n",
       " 'USER_HANDLES_REGEX',\n",
       " 'VISACard_REGEX',\n",
       " 'ZIP_REGEX',\n",
       " '__builtins__',\n",
       " '__cached__',\n",
       " '__doc__',\n",
       " '__file__',\n",
       " '__loader__',\n",
       " '__name__',\n",
       " '__package__',\n",
       " '__path__',\n",
       " '__spec__',\n",
       " '__version__',\n",
       " 'clean_text',\n",
       " 'defaultdict',\n",
       " 'digit2words',\n",
       " 'emoji_explainer',\n",
       " 'emojify',\n",
       " 'explainer',\n",
       " 'extract_btc_address',\n",
       " 'extract_currencies',\n",
       " 'extract_currency_symbols',\n",
       " 'extract_dates',\n",
       " 'extract_emails',\n",
       " 'extract_emojis',\n",
       " 'extract_hashtags',\n",
       " 'extract_html_tags',\n",
       " 'extract_mastercard_addr',\n",
       " 'extract_md5sha',\n",
       " 'extract_numbers',\n",
       " 'extract_pattern',\n",
       " 'extract_phone_numbers',\n",
       " 'extract_postoffice_box',\n",
       " 'extract_shortwords',\n",
       " 'extract_special_characters',\n",
       " 'extract_stopwords',\n",
       " 'extract_street_address',\n",
       " 'extract_terms_in_bracket',\n",
       " 'extract_urls',\n",
       " 'extract_userhandles',\n",
       " 'extract_visacard_addr',\n",
       " 'fix_contractions',\n",
       " 'functions',\n",
       " 'generate_sentence',\n",
       " 'hamming_distance',\n",
       " 'inverse_df',\n",
       " 'lexical_richness',\n",
       " 'markov_chain',\n",
       " 'math',\n",
       " 'neattext',\n",
       " 'nlargest',\n",
       " 'normalize',\n",
       " 'num2words',\n",
       " 'pattern_data',\n",
       " 'pipeline',\n",
       " 'random',\n",
       " 're',\n",
       " 'read_txt',\n",
       " 'remove_accents',\n",
       " 'remove_bad_quotes',\n",
       " 'remove_btc_address',\n",
       " 'remove_currencies',\n",
       " 'remove_currency_symbols',\n",
       " 'remove_custom_pattern',\n",
       " 'remove_custom_words',\n",
       " 'remove_dates',\n",
       " 'remove_emails',\n",
       " 'remove_emojis',\n",
       " 'remove_hashtags',\n",
       " 'remove_html_tags',\n",
       " 'remove_mastercard_addr',\n",
       " 'remove_md5sha',\n",
       " 'remove_multiple_spaces',\n",
       " 'remove_non_ascii',\n",
       " 'remove_numbers',\n",
       " 'remove_phone_numbers',\n",
       " 'remove_postoffice_box',\n",
       " 'remove_puncts',\n",
       " 'remove_punctuations',\n",
       " 'remove_shortwords',\n",
       " 'remove_special_characters',\n",
       " 'remove_stopwords',\n",
       " 'remove_street_address',\n",
       " 'remove_terms_in_bracket',\n",
       " 'remove_urls',\n",
       " 'remove_userhandles',\n",
       " 'remove_visacard_addr',\n",
       " 'replace_bad_quotes',\n",
       " 'replace_currencies',\n",
       " 'replace_currency_symbols',\n",
       " 'replace_dates',\n",
       " 'replace_emails',\n",
       " 'replace_emojis',\n",
       " 'replace_numbers',\n",
       " 'replace_phone_numbers',\n",
       " 'replace_special_characters',\n",
       " 'replace_term',\n",
       " 'replace_urls',\n",
       " 'string',\n",
       " 'term_freq',\n",
       " 'to_txt',\n",
       " 'unicode_2_emoji',\n",
       " 'unicodedata',\n",
       " 'word_freq',\n",
       " 'word_length_freq']"
      ]
     },
     "execution_count": 13,
     "metadata": {},
     "output_type": "execute_result"
    }
   ],
   "source": [
    "# load the text cleaning packages\n",
    "\n",
    "import neattext as nt\n",
    "import neattext.functions as nfx\n",
    "\n",
    "# Methods and Attributes of the function\n",
    "dir(nt)"
   ]
  },
  {
   "cell_type": "markdown",
   "metadata": {},
   "source": [
    "### <b>3.1.1 <span style='color:#F1A424'>|</span> Mentions / User Handles</b> "
   ]
  },
  {
   "cell_type": "code",
   "execution_count": 14,
   "metadata": {},
   "outputs": [
    {
     "data": {
      "text/plain": [
       "0         7.581227\n",
       "1        12.142857\n",
       "2        10.447761\n",
       "3        12.000000\n",
       "4        12.941176\n",
       "           ...    \n",
       "21774    10.238908\n",
       "21775    11.827957\n",
       "21776    10.958904\n",
       "21777    11.913357\n",
       "21778    12.340426\n",
       "Name: tweet, Length: 21692, dtype: float64"
      ]
     },
     "execution_count": 14,
     "metadata": {},
     "output_type": "execute_result"
    }
   ],
   "source": [
    "# Noise scan\n",
    "df['tweet'].apply(lambda x: nt.TextFrame(x).noise_scan()['text_noise'])"
   ]
  },
  {
   "cell_type": "code",
   "execution_count": 15,
   "metadata": {},
   "outputs": [],
   "source": [
    "# Ensure all entries in 'tweet' column are strings\n",
    "df['tweet'] = df['tweet'].astype(str)\n",
    "\n",
    "# Now apply the clean_text function\n",
    "df['clean_tweet'] = df['tweet'].apply(lambda x: nfx.clean_text(x, puncts=False, stopwords=False))"
   ]
  },
  {
   "cell_type": "code",
   "execution_count": 16,
   "metadata": {},
   "outputs": [],
   "source": [
    "# Extract userhandles into another column before removing them\n",
    "df['userhandle'] = df['clean_tweet'].apply(nfx.extract_userhandles)"
   ]
  },
  {
   "cell_type": "code",
   "execution_count": 17,
   "metadata": {},
   "outputs": [
    {
     "data": {
      "text/html": [
       "<div>\n",
       "<style scoped>\n",
       "    .dataframe tbody tr th:only-of-type {\n",
       "        vertical-align: middle;\n",
       "    }\n",
       "\n",
       "    .dataframe tbody tr th {\n",
       "        vertical-align: top;\n",
       "    }\n",
       "\n",
       "    .dataframe thead th {\n",
       "        text-align: right;\n",
       "    }\n",
       "</style>\n",
       "<table border=\"1\" class=\"dataframe tex2jax_ignore\">\n",
       "  <thead>\n",
       "    <tr style=\"text-align: right;\">\n",
       "      <th></th>\n",
       "      <th>tweet</th>\n",
       "      <th>clean_tweet</th>\n",
       "      <th>userhandle</th>\n",
       "    </tr>\n",
       "  </thead>\n",
       "  <tbody>\n",
       "    <tr>\n",
       "      <th>0</th>\n",
       "      <td>Despot Uhuru Kenyatta's olympian performance is in drinking and LOOTING DENS and FUNERAL committees of fallen thieves, tribalists and dictators. That's his 10 year legacy. Kenyans must and will remember and punish him for that dubious legacy on August 9th.   #RejectRailaOdinga</td>\n",
       "      <td>despot uhuru kenyatta's olympian performance is in drinking and looting dens and funeral committees of fallen thieves, tribalists and dictators. that's his 10 year legacy. kenyans must and will remember and punish him for that dubious legacy on august 9th. #rejectrailaodinga</td>\n",
       "      <td>[]</td>\n",
       "    </tr>\n",
       "    <tr>\n",
       "      <th>1</th>\n",
       "      <td>President @NelsonHavi has been my lawyer. We don't agree on many issues. However, he will be the BEST MP for Westlands. Tim Wanyonyi may be a good man. But he is a COWARD and has never LEGISLATED in Parliament. Parliament DESERVES eloquent and brilliant WARRIORS like @NelsonHavi.</td>\n",
       "      <td>president   has been my lawyer. we don't agree on many issues. however, he will be the best mp for westlands. tim wanyonyi may be a good man. but he is a coward and has never legislated in parliament. parliament deserves eloquent and brilliant warriors like</td>\n",
       "      <td>[@nelsonhavi, @nelsonhavi.]</td>\n",
       "    </tr>\n",
       "    <tr>\n",
       "      <th>2</th>\n",
       "      <td>You have alleged that Ruto has stolen more than Uhuru Kenyatta. #PandoraPapers disclose that Uhuru Kenyatta has stolen and stashed more than Sh 2.5 TRILLION in 9 nine years. From your argument, it implies that Ruto is a trillionaire. Is he broke or genuinely mourning?</td>\n",
       "      <td>you have alleged that ruto has stolen more than uhuru kenyatta. #pandorapapers disclose that uhuru kenyatta has stolen and stashed more than sh 2.5 trillion in 9 nine years. from your argument, it implies that ruto is a trillionaire. is he broke or genuinely mourning?</td>\n",
       "      <td>[]</td>\n",
       "    </tr>\n",
       "    <tr>\n",
       "      <th>3</th>\n",
       "      <td>@senator047 @StateHouseKenya Where is credible evidence that it's him? Show a time-stamped image with him inside the vehicle.</td>\n",
       "      <td>where is credible evidence that it's him? show a time-stamped image with him inside the vehicle.</td>\n",
       "      <td>[@senator047, @statehousekenya]</td>\n",
       "    </tr>\n",
       "    <tr>\n",
       "      <th>4</th>\n",
       "      <td>@FredrickOwok @elonmusk My Tweet did not say that some white people are not homeless?</td>\n",
       "      <td>my tweet did not say that some white people are not homeless?</td>\n",
       "      <td>[@fredrickowok, @elonmusk]</td>\n",
       "    </tr>\n",
       "  </tbody>\n",
       "</table>\n",
       "</div>"
      ],
      "text/plain": [
       "                                                                                                                                                                                                                                                                                      tweet  \\\n",
       "0     Despot Uhuru Kenyatta's olympian performance is in drinking and LOOTING DENS and FUNERAL committees of fallen thieves, tribalists and dictators. That's his 10 year legacy. Kenyans must and will remember and punish him for that dubious legacy on August 9th.   #RejectRailaOdinga   \n",
       "1  President @NelsonHavi has been my lawyer. We don't agree on many issues. However, he will be the BEST MP for Westlands. Tim Wanyonyi may be a good man. But he is a COWARD and has never LEGISLATED in Parliament. Parliament DESERVES eloquent and brilliant WARRIORS like @NelsonHavi.   \n",
       "2              You have alleged that Ruto has stolen more than Uhuru Kenyatta. #PandoraPapers disclose that Uhuru Kenyatta has stolen and stashed more than Sh 2.5 TRILLION in 9 nine years. From your argument, it implies that Ruto is a trillionaire. Is he broke or genuinely mourning?   \n",
       "3                                                                                                                                                             @senator047 @StateHouseKenya Where is credible evidence that it's him? Show a time-stamped image with him inside the vehicle.   \n",
       "4                                                                                                                                                                                                     @FredrickOwok @elonmusk My Tweet did not say that some white people are not homeless?   \n",
       "\n",
       "                                                                                                                                                                                                                                                                           clean_tweet  \\\n",
       "0  despot uhuru kenyatta's olympian performance is in drinking and looting dens and funeral committees of fallen thieves, tribalists and dictators. that's his 10 year legacy. kenyans must and will remember and punish him for that dubious legacy on august 9th. #rejectrailaodinga   \n",
       "1                  president   has been my lawyer. we don't agree on many issues. however, he will be the best mp for westlands. tim wanyonyi may be a good man. but he is a coward and has never legislated in parliament. parliament deserves eloquent and brilliant warriors like     \n",
       "2         you have alleged that ruto has stolen more than uhuru kenyatta. #pandorapapers disclose that uhuru kenyatta has stolen and stashed more than sh 2.5 trillion in 9 nine years. from your argument, it implies that ruto is a trillionaire. is he broke or genuinely mourning?   \n",
       "3                                                                                                                                                                                     where is credible evidence that it's him? show a time-stamped image with him inside the vehicle.   \n",
       "4                                                                                                                                                                                                                        my tweet did not say that some white people are not homeless?   \n",
       "\n",
       "                        userhandle  \n",
       "0                               []  \n",
       "1      [@nelsonhavi, @nelsonhavi.]  \n",
       "2                               []  \n",
       "3  [@senator047, @statehousekenya]  \n",
       "4       [@fredrickowok, @elonmusk]  "
      ]
     },
     "execution_count": 17,
     "metadata": {},
     "output_type": "execute_result"
    }
   ],
   "source": [
    "# Remove the userhandles\n",
    "df['clean_tweet'] = df['clean_tweet'].apply(nfx.remove_userhandles)\n",
    "\n",
    "df[['tweet', 'clean_tweet', 'userhandle']].head()"
   ]
  },
  {
   "cell_type": "markdown",
   "metadata": {},
   "source": [
    "### <b>3.1.2 <span style='color:#F1A424'>|</span> Hashtags</b> "
   ]
  },
  {
   "cell_type": "code",
   "execution_count": 18,
   "metadata": {},
   "outputs": [
    {
     "data": {
      "text/html": [
       "<div>\n",
       "<style scoped>\n",
       "    .dataframe tbody tr th:only-of-type {\n",
       "        vertical-align: middle;\n",
       "    }\n",
       "\n",
       "    .dataframe tbody tr th {\n",
       "        vertical-align: top;\n",
       "    }\n",
       "\n",
       "    .dataframe thead th {\n",
       "        text-align: right;\n",
       "    }\n",
       "</style>\n",
       "<table border=\"1\" class=\"dataframe tex2jax_ignore\">\n",
       "  <thead>\n",
       "    <tr style=\"text-align: right;\">\n",
       "      <th></th>\n",
       "      <th>tweet</th>\n",
       "      <th>clean_tweet</th>\n",
       "      <th>hashtags</th>\n",
       "    </tr>\n",
       "  </thead>\n",
       "  <tbody>\n",
       "    <tr>\n",
       "      <th>0</th>\n",
       "      <td>Despot Uhuru Kenyatta's olympian performance is in drinking and LOOTING DENS and FUNERAL committees of fallen thieves, tribalists and dictators. That's his 10 year legacy. Kenyans must and will remember and punish him for that dubious legacy on August 9th.   #RejectRailaOdinga</td>\n",
       "      <td>despot uhuru kenyatta's olympian performance is in drinking and looting dens and funeral committees of fallen thieves, tribalists and dictators. that's his 10 year legacy. kenyans must and will remember and punish him for that dubious legacy on august 9th. #rejectrailaodinga</td>\n",
       "      <td>[#rejectrailaodinga]</td>\n",
       "    </tr>\n",
       "    <tr>\n",
       "      <th>1</th>\n",
       "      <td>President @NelsonHavi has been my lawyer. We don't agree on many issues. However, he will be the BEST MP for Westlands. Tim Wanyonyi may be a good man. But he is a COWARD and has never LEGISLATED in Parliament. Parliament DESERVES eloquent and brilliant WARRIORS like @NelsonHavi.</td>\n",
       "      <td>president   has been my lawyer. we don't agree on many issues. however, he will be the best mp for westlands. tim wanyonyi may be a good man. but he is a coward and has never legislated in parliament. parliament deserves eloquent and brilliant warriors like</td>\n",
       "      <td>[]</td>\n",
       "    </tr>\n",
       "    <tr>\n",
       "      <th>2</th>\n",
       "      <td>You have alleged that Ruto has stolen more than Uhuru Kenyatta. #PandoraPapers disclose that Uhuru Kenyatta has stolen and stashed more than Sh 2.5 TRILLION in 9 nine years. From your argument, it implies that Ruto is a trillionaire. Is he broke or genuinely mourning?</td>\n",
       "      <td>you have alleged that ruto has stolen more than uhuru kenyatta. #pandorapapers disclose that uhuru kenyatta has stolen and stashed more than sh 2.5 trillion in 9 nine years. from your argument, it implies that ruto is a trillionaire. is he broke or genuinely mourning?</td>\n",
       "      <td>[#pandorapapers]</td>\n",
       "    </tr>\n",
       "    <tr>\n",
       "      <th>3</th>\n",
       "      <td>@senator047 @StateHouseKenya Where is credible evidence that it's him? Show a time-stamped image with him inside the vehicle.</td>\n",
       "      <td>where is credible evidence that it's him? show a time-stamped image with him inside the vehicle.</td>\n",
       "      <td>[]</td>\n",
       "    </tr>\n",
       "    <tr>\n",
       "      <th>4</th>\n",
       "      <td>@FredrickOwok @elonmusk My Tweet did not say that some white people are not homeless?</td>\n",
       "      <td>my tweet did not say that some white people are not homeless?</td>\n",
       "      <td>[]</td>\n",
       "    </tr>\n",
       "  </tbody>\n",
       "</table>\n",
       "</div>"
      ],
      "text/plain": [
       "                                                                                                                                                                                                                                                                                      tweet  \\\n",
       "0     Despot Uhuru Kenyatta's olympian performance is in drinking and LOOTING DENS and FUNERAL committees of fallen thieves, tribalists and dictators. That's his 10 year legacy. Kenyans must and will remember and punish him for that dubious legacy on August 9th.   #RejectRailaOdinga   \n",
       "1  President @NelsonHavi has been my lawyer. We don't agree on many issues. However, he will be the BEST MP for Westlands. Tim Wanyonyi may be a good man. But he is a COWARD and has never LEGISLATED in Parliament. Parliament DESERVES eloquent and brilliant WARRIORS like @NelsonHavi.   \n",
       "2              You have alleged that Ruto has stolen more than Uhuru Kenyatta. #PandoraPapers disclose that Uhuru Kenyatta has stolen and stashed more than Sh 2.5 TRILLION in 9 nine years. From your argument, it implies that Ruto is a trillionaire. Is he broke or genuinely mourning?   \n",
       "3                                                                                                                                                             @senator047 @StateHouseKenya Where is credible evidence that it's him? Show a time-stamped image with him inside the vehicle.   \n",
       "4                                                                                                                                                                                                     @FredrickOwok @elonmusk My Tweet did not say that some white people are not homeless?   \n",
       "\n",
       "                                                                                                                                                                                                                                                                           clean_tweet  \\\n",
       "0  despot uhuru kenyatta's olympian performance is in drinking and looting dens and funeral committees of fallen thieves, tribalists and dictators. that's his 10 year legacy. kenyans must and will remember and punish him for that dubious legacy on august 9th. #rejectrailaodinga   \n",
       "1                  president   has been my lawyer. we don't agree on many issues. however, he will be the best mp for westlands. tim wanyonyi may be a good man. but he is a coward and has never legislated in parliament. parliament deserves eloquent and brilliant warriors like     \n",
       "2         you have alleged that ruto has stolen more than uhuru kenyatta. #pandorapapers disclose that uhuru kenyatta has stolen and stashed more than sh 2.5 trillion in 9 nine years. from your argument, it implies that ruto is a trillionaire. is he broke or genuinely mourning?   \n",
       "3                                                                                                                                                                                     where is credible evidence that it's him? show a time-stamped image with him inside the vehicle.   \n",
       "4                                                                                                                                                                                                                        my tweet did not say that some white people are not homeless?   \n",
       "\n",
       "               hashtags  \n",
       "0  [#rejectrailaodinga]  \n",
       "1                    []  \n",
       "2      [#pandorapapers]  \n",
       "3                    []  \n",
       "4                    []  "
      ]
     },
     "execution_count": 18,
     "metadata": {},
     "output_type": "execute_result"
    }
   ],
   "source": [
    "# Extract hashtags into another column before removing them\n",
    "df['hashtags'] = df['clean_tweet'].apply(nfx.extract_hashtags)\n",
    "\n",
    "df[['tweet', 'clean_tweet', 'hashtags']].head()"
   ]
  },
  {
   "cell_type": "code",
   "execution_count": 19,
   "metadata": {},
   "outputs": [
    {
     "data": {
      "text/html": [
       "<div>\n",
       "<style scoped>\n",
       "    .dataframe tbody tr th:only-of-type {\n",
       "        vertical-align: middle;\n",
       "    }\n",
       "\n",
       "    .dataframe tbody tr th {\n",
       "        vertical-align: top;\n",
       "    }\n",
       "\n",
       "    .dataframe thead th {\n",
       "        text-align: right;\n",
       "    }\n",
       "</style>\n",
       "<table border=\"1\" class=\"dataframe tex2jax_ignore\">\n",
       "  <thead>\n",
       "    <tr style=\"text-align: right;\">\n",
       "      <th></th>\n",
       "      <th>tweet</th>\n",
       "      <th>clean_tweet</th>\n",
       "      <th>hashtags</th>\n",
       "    </tr>\n",
       "  </thead>\n",
       "  <tbody>\n",
       "    <tr>\n",
       "      <th>0</th>\n",
       "      <td>Despot Uhuru Kenyatta's olympian performance is in drinking and LOOTING DENS and FUNERAL committees of fallen thieves, tribalists and dictators. That's his 10 year legacy. Kenyans must and will remember and punish him for that dubious legacy on August 9th.   #RejectRailaOdinga</td>\n",
       "      <td>despot uhuru kenyatta's olympian performance is in drinking and looting dens and funeral committees of fallen thieves, tribalists and dictators. that's his 10 year legacy. kenyans must and will remember and punish him for that dubious legacy on august 9th.</td>\n",
       "      <td>[#rejectrailaodinga]</td>\n",
       "    </tr>\n",
       "    <tr>\n",
       "      <th>1</th>\n",
       "      <td>President @NelsonHavi has been my lawyer. We don't agree on many issues. However, he will be the BEST MP for Westlands. Tim Wanyonyi may be a good man. But he is a COWARD and has never LEGISLATED in Parliament. Parliament DESERVES eloquent and brilliant WARRIORS like @NelsonHavi.</td>\n",
       "      <td>president   has been my lawyer. we don't agree on many issues. however, he will be the best mp for westlands. tim wanyonyi may be a good man. but he is a coward and has never legislated in parliament. parliament deserves eloquent and brilliant warriors like</td>\n",
       "      <td>[]</td>\n",
       "    </tr>\n",
       "    <tr>\n",
       "      <th>2</th>\n",
       "      <td>You have alleged that Ruto has stolen more than Uhuru Kenyatta. #PandoraPapers disclose that Uhuru Kenyatta has stolen and stashed more than Sh 2.5 TRILLION in 9 nine years. From your argument, it implies that Ruto is a trillionaire. Is he broke or genuinely mourning?</td>\n",
       "      <td>you have alleged that ruto has stolen more than uhuru kenyatta.   disclose that uhuru kenyatta has stolen and stashed more than sh 2.5 trillion in 9 nine years. from your argument, it implies that ruto is a trillionaire. is he broke or genuinely mourning?</td>\n",
       "      <td>[#pandorapapers]</td>\n",
       "    </tr>\n",
       "    <tr>\n",
       "      <th>3</th>\n",
       "      <td>@senator047 @StateHouseKenya Where is credible evidence that it's him? Show a time-stamped image with him inside the vehicle.</td>\n",
       "      <td>where is credible evidence that it's him? show a time-stamped image with him inside the vehicle.</td>\n",
       "      <td>[]</td>\n",
       "    </tr>\n",
       "    <tr>\n",
       "      <th>4</th>\n",
       "      <td>@FredrickOwok @elonmusk My Tweet did not say that some white people are not homeless?</td>\n",
       "      <td>my tweet did not say that some white people are not homeless?</td>\n",
       "      <td>[]</td>\n",
       "    </tr>\n",
       "  </tbody>\n",
       "</table>\n",
       "</div>"
      ],
      "text/plain": [
       "                                                                                                                                                                                                                                                                                      tweet  \\\n",
       "0     Despot Uhuru Kenyatta's olympian performance is in drinking and LOOTING DENS and FUNERAL committees of fallen thieves, tribalists and dictators. That's his 10 year legacy. Kenyans must and will remember and punish him for that dubious legacy on August 9th.   #RejectRailaOdinga   \n",
       "1  President @NelsonHavi has been my lawyer. We don't agree on many issues. However, he will be the BEST MP for Westlands. Tim Wanyonyi may be a good man. But he is a COWARD and has never LEGISLATED in Parliament. Parliament DESERVES eloquent and brilliant WARRIORS like @NelsonHavi.   \n",
       "2              You have alleged that Ruto has stolen more than Uhuru Kenyatta. #PandoraPapers disclose that Uhuru Kenyatta has stolen and stashed more than Sh 2.5 TRILLION in 9 nine years. From your argument, it implies that Ruto is a trillionaire. Is he broke or genuinely mourning?   \n",
       "3                                                                                                                                                             @senator047 @StateHouseKenya Where is credible evidence that it's him? Show a time-stamped image with him inside the vehicle.   \n",
       "4                                                                                                                                                                                                     @FredrickOwok @elonmusk My Tweet did not say that some white people are not homeless?   \n",
       "\n",
       "                                                                                                                                                                                                                                                           clean_tweet  \\\n",
       "0   despot uhuru kenyatta's olympian performance is in drinking and looting dens and funeral committees of fallen thieves, tribalists and dictators. that's his 10 year legacy. kenyans must and will remember and punish him for that dubious legacy on august 9th.     \n",
       "1  president   has been my lawyer. we don't agree on many issues. however, he will be the best mp for westlands. tim wanyonyi may be a good man. but he is a coward and has never legislated in parliament. parliament deserves eloquent and brilliant warriors like     \n",
       "2      you have alleged that ruto has stolen more than uhuru kenyatta.   disclose that uhuru kenyatta has stolen and stashed more than sh 2.5 trillion in 9 nine years. from your argument, it implies that ruto is a trillionaire. is he broke or genuinely mourning?   \n",
       "3                                                                                                                                                                     where is credible evidence that it's him? show a time-stamped image with him inside the vehicle.   \n",
       "4                                                                                                                                                                                                        my tweet did not say that some white people are not homeless?   \n",
       "\n",
       "               hashtags  \n",
       "0  [#rejectrailaodinga]  \n",
       "1                    []  \n",
       "2      [#pandorapapers]  \n",
       "3                    []  \n",
       "4                    []  "
      ]
     },
     "execution_count": 19,
     "metadata": {},
     "output_type": "execute_result"
    }
   ],
   "source": [
    "# Remove hashtags\n",
    "df['clean_tweet'] = df['clean_tweet'].apply(nfx.remove_hashtags)\n",
    "\n",
    "df[['tweet', 'clean_tweet', 'hashtags']].head()"
   ]
  },
  {
   "cell_type": "markdown",
   "metadata": {},
   "source": [
    "### <b>3.1.3 <span style='color:#F1A424'>|</span> URLs</b> "
   ]
  },
  {
   "cell_type": "code",
   "execution_count": 20,
   "metadata": {},
   "outputs": [
    {
     "data": {
      "text/html": [
       "<div>\n",
       "<style scoped>\n",
       "    .dataframe tbody tr th:only-of-type {\n",
       "        vertical-align: middle;\n",
       "    }\n",
       "\n",
       "    .dataframe tbody tr th {\n",
       "        vertical-align: top;\n",
       "    }\n",
       "\n",
       "    .dataframe thead th {\n",
       "        text-align: right;\n",
       "    }\n",
       "</style>\n",
       "<table border=\"1\" class=\"dataframe tex2jax_ignore\">\n",
       "  <thead>\n",
       "    <tr style=\"text-align: right;\">\n",
       "      <th></th>\n",
       "      <th>tweet</th>\n",
       "      <th>clean_tweet</th>\n",
       "      <th>urls</th>\n",
       "    </tr>\n",
       "  </thead>\n",
       "  <tbody>\n",
       "    <tr>\n",
       "      <th>21200</th>\n",
       "      <td>@nwm21857450 That's nonsense, Zombie, and you know it.</td>\n",
       "      <td>that's nonsense, zombie, and you know it.</td>\n",
       "      <td>[]</td>\n",
       "    </tr>\n",
       "    <tr>\n",
       "      <th>1809</th>\n",
       "      <td>@Caroo93382885 You must get admitted at a university first, then you apply for a scholarship, or you get one after admission if you have exceptional GPA.</td>\n",
       "      <td>you must get admitted at a university first, then you apply for a scholarship, or you get one after admission if you have exceptional gpa.</td>\n",
       "      <td>[]</td>\n",
       "    </tr>\n",
       "    <tr>\n",
       "      <th>7743</th>\n",
       "      <td>I should have added the the one that committed suicide first: Devolved Units or County Governments. Dead, cremated and forgotten. That's why we have illiterate military men occupying Nairobi by force. #uhurumustgo</td>\n",
       "      <td>i should have added the the one that committed suicide first: devolved units or county governments. dead, cremated and forgotten. that's why we have illiterate military men occupying nairobi by force.</td>\n",
       "      <td>[]</td>\n",
       "    </tr>\n",
       "    <tr>\n",
       "      <th>18110</th>\n",
       "      <td>@werejac @_fels1 @ProseocutaDenis @Babu_Owino @RailaOdinga @WilliamsRuto @DCI_Kenya @ODPP_KE @Wetangulam @FredMatiangi @EACCKenya There is a very good reason why we have the Bill of Rights in the Constitution, especially freedom of conscience, thought, expression and the media. These are to permit ROBUST public discourse and debates. You are afraid to confront despots in power. I'm not.</td>\n",
       "      <td>there is a very good reason why we have the bill of rights in the constitution, especially freedom of conscience, thought, expression and the media. these are to permit robust public discourse and debates. you are afraid to confront despots in power. i'm not.</td>\n",
       "      <td>[]</td>\n",
       "    </tr>\n",
       "    <tr>\n",
       "      <th>17016</th>\n",
       "      <td>Yes, I'm an unrepentant freedom fighter. That's my work. I fight for freedom even in my sleep. If anyone believes that fighting for freedom is not work, that's his/her problem; not mine. I'll continue fighting for your freedom whether I'm in exile or at home even if you abuse me.</td>\n",
       "      <td>yes, i'm an unrepentant freedom fighter. that's my work. i fight for freedom even in my sleep. if anyone believes that fighting for freedom is not work, that's his/her problem; not mine. i'll continue fighting for your freedom whether i'm in exile or at home even if you abuse me.</td>\n",
       "      <td>[]</td>\n",
       "    </tr>\n",
       "  </tbody>\n",
       "</table>\n",
       "</div>"
      ],
      "text/plain": [
       "                                                                                                                                                                                                                                                                                                                                                                                                       tweet  \\\n",
       "21200                                                                                                                                                                                                                                                                                                                                                 @nwm21857450 That's nonsense, Zombie, and you know it.   \n",
       "1809                                                                                                                                                                                                                                               @Caroo93382885 You must get admitted at a university first, then you apply for a scholarship, or you get one after admission if you have exceptional GPA.   \n",
       "7743                                                                                                                                                                                   I should have added the the one that committed suicide first: Devolved Units or County Governments. Dead, cremated and forgotten. That's why we have illiterate military men occupying Nairobi by force. #uhurumustgo   \n",
       "18110  @werejac @_fels1 @ProseocutaDenis @Babu_Owino @RailaOdinga @WilliamsRuto @DCI_Kenya @ODPP_KE @Wetangulam @FredMatiangi @EACCKenya There is a very good reason why we have the Bill of Rights in the Constitution, especially freedom of conscience, thought, expression and the media. These are to permit ROBUST public discourse and debates. You are afraid to confront despots in power. I'm not.   \n",
       "17016                                                                                                               Yes, I'm an unrepentant freedom fighter. That's my work. I fight for freedom even in my sleep. If anyone believes that fighting for freedom is not work, that's his/her problem; not mine. I'll continue fighting for your freedom whether I'm in exile or at home even if you abuse me.   \n",
       "\n",
       "                                                                                                                                                                                                                                                                                     clean_tweet  \\\n",
       "21200                                                                                                                                                                                                                                                  that's nonsense, zombie, and you know it.   \n",
       "1809                                                                                                                                                  you must get admitted at a university first, then you apply for a scholarship, or you get one after admission if you have exceptional gpa.   \n",
       "7743                                                                                  i should have added the the one that committed suicide first: devolved units or county governments. dead, cremated and forgotten. that's why we have illiterate military men occupying nairobi by force.     \n",
       "18110                        there is a very good reason why we have the bill of rights in the constitution, especially freedom of conscience, thought, expression and the media. these are to permit robust public discourse and debates. you are afraid to confront despots in power. i'm not.   \n",
       "17016   yes, i'm an unrepentant freedom fighter. that's my work. i fight for freedom even in my sleep. if anyone believes that fighting for freedom is not work, that's his/her problem; not mine. i'll continue fighting for your freedom whether i'm in exile or at home even if you abuse me.   \n",
       "\n",
       "      urls  \n",
       "21200   []  \n",
       "1809    []  \n",
       "7743    []  \n",
       "18110   []  \n",
       "17016   []  "
      ]
     },
     "execution_count": 20,
     "metadata": {},
     "output_type": "execute_result"
    }
   ],
   "source": [
    "# Extract URLs into another column before removing them\n",
    "# If we were to remove the URLs after remove the special characters e.g '//' the function would be ubable to detect the URLs\n",
    "df['urls'] = df['clean_tweet'].apply(nfx.extract_urls)\n",
    "\n",
    "df[['tweet', 'clean_tweet', 'urls']].sample(5)"
   ]
  },
  {
   "cell_type": "code",
   "execution_count": 21,
   "metadata": {},
   "outputs": [
    {
     "data": {
      "text/plain": [
       "tweet          Bravo, Wanyiri Kihoro. I fully support your principled stand.   https://t.co/7d61DoxdQn\n",
       "clean_tweet      bravo, wanyiri kihoro. i fully support your principled stand. https://t.co/7d61doxdqn\n",
       "urls                                                                         [https://t.co/7d61doxdqn]\n",
       "Name: 15, dtype: object"
      ]
     },
     "execution_count": 21,
     "metadata": {},
     "output_type": "execute_result"
    }
   ],
   "source": [
    "df[['tweet', 'clean_tweet', 'urls']].loc[15]"
   ]
  },
  {
   "cell_type": "code",
   "execution_count": 22,
   "metadata": {},
   "outputs": [
    {
     "data": {
      "text/plain": [
       "tweet          @brexit_martin @Anko_geof @EAukot @IEBCKenya Wrong. The solution is only one: People Power Protests!   https://t.co/4etcW9LBLc\n",
       "clean_tweet                                                   wrong. the solution is only one: people power protests! https://t.co/4etcw9lblc\n",
       "urls                                                                                                                [https://t.co/4etcw9lblc]\n",
       "Name: 16515, dtype: object"
      ]
     },
     "execution_count": 22,
     "metadata": {},
     "output_type": "execute_result"
    }
   ],
   "source": [
    "df[['tweet', 'clean_tweet', 'urls']].loc[16515]"
   ]
  },
  {
   "cell_type": "code",
   "execution_count": 23,
   "metadata": {},
   "outputs": [
    {
     "data": {
      "text/plain": [
       "tweet          Con-Man @RailaOdinga sycophants have been abusing me for telling them that Despot Kenyatta had castrated them, numbed their brains and made them into zombies. Apologize to Kenyans for stealing Sh 11 Billion. Apologize for polluting air. #BurnBBIReport    https://t.co/7Qjg6eg1xV\n",
       "clean_tweet                               con-man   sycophants have been abusing me for telling them that despot kenyatta had castrated them, numbed their brains and made them into zombies. apologize to kenyans for stealing sh 11 billion. apologize for polluting air.   https://t.co/7qjg6eg1xv\n",
       "urls                                                                                                                                                                                                                                                                        [https://t.co/7qjg6eg1xv]\n",
       "Name: 12827, dtype: object"
      ]
     },
     "execution_count": 23,
     "metadata": {},
     "output_type": "execute_result"
    }
   ],
   "source": [
    "df[['tweet', 'clean_tweet', 'urls']].loc[12827]"
   ]
  },
  {
   "cell_type": "code",
   "execution_count": 24,
   "metadata": {},
   "outputs": [],
   "source": [
    "# Remove URLS\n",
    "df['clean_tweet'] = df['clean_tweet'].apply(nfx.remove_urls)"
   ]
  },
  {
   "cell_type": "code",
   "execution_count": 25,
   "metadata": {},
   "outputs": [
    {
     "data": {
      "text/plain": [
       "tweet          Bravo, Wanyiri Kihoro. I fully support your principled stand.   https://t.co/7d61DoxdQn\n",
       "clean_tweet                             bravo, wanyiri kihoro. i fully support your principled stand. \n",
       "urls                                                                         [https://t.co/7d61doxdqn]\n",
       "Name: 15, dtype: object"
      ]
     },
     "execution_count": 25,
     "metadata": {},
     "output_type": "execute_result"
    }
   ],
   "source": [
    "df[['tweet', 'clean_tweet', 'urls']].loc[15]"
   ]
  },
  {
   "cell_type": "markdown",
   "metadata": {},
   "source": [
    "### <b>3.1.4 <span style='color:#F1A424'>|</span> Special Characters</b> "
   ]
  },
  {
   "cell_type": "code",
   "execution_count": 26,
   "metadata": {},
   "outputs": [
    {
     "data": {
      "text/html": [
       "<div>\n",
       "<style scoped>\n",
       "    .dataframe tbody tr th:only-of-type {\n",
       "        vertical-align: middle;\n",
       "    }\n",
       "\n",
       "    .dataframe tbody tr th {\n",
       "        vertical-align: top;\n",
       "    }\n",
       "\n",
       "    .dataframe thead th {\n",
       "        text-align: right;\n",
       "    }\n",
       "</style>\n",
       "<table border=\"1\" class=\"dataframe tex2jax_ignore\">\n",
       "  <thead>\n",
       "    <tr style=\"text-align: right;\">\n",
       "      <th></th>\n",
       "      <th>tweet</th>\n",
       "      <th>clean_tweet</th>\n",
       "    </tr>\n",
       "  </thead>\n",
       "  <tbody>\n",
       "    <tr>\n",
       "      <th>15414</th>\n",
       "      <td>@ntvkenya This crow-eating despotic surrogate criminal suffers from the Nicholas Biwott syndrome of deluding himself that he is the cabinet minister for everything - environment, torture, political assassinations, election theft and Nairobi River! #DespotsMustFall</td>\n",
       "      <td>this croweating despotic surrogate criminal suffers from the nicholas biwott syndrome of deluding himself that he is the cabinet minister for everything  environment torture political assassinations election theft and nairobi river</td>\n",
       "    </tr>\n",
       "    <tr>\n",
       "      <th>9201</th>\n",
       "      <td>Even a blind (wo)man can see that Despot Uhuru Kenyatta has sent @WilliamsRuto into internal forced #COVIDー19 exile. Both @realDonaldTrump and Pence have been appearing together in public. Trump appointed Pence the head of the #COVID19 task-force. Ruto: Deal with the reality.</td>\n",
       "      <td>even a blind woman can see that despot uhuru kenyatta has sent   into internal forced   exile both   and pence have been appearing together in public trump appointed pence the head of the   taskforce ruto deal with the reality</td>\n",
       "    </tr>\n",
       "    <tr>\n",
       "      <th>15381</th>\n",
       "      <td>Despot Uhuru Kenyatta and his Kiambu Mafia are only desperate to use the People's Con-Man @RailaOdinga to pass the BBI HandChieth constitutional amendment intended to institutional despotism. If/when passed, @RailaOdinga will wish that he never recovered from his brain illness.</td>\n",
       "      <td>despot uhuru kenyatta and his kiambu mafia are only desperate to use the peoples conman   to pass the bbi handchieth constitutional amendment intended to institutional despotism ifwhen passed   will wish that he never recovered from his brain illness</td>\n",
       "    </tr>\n",
       "    <tr>\n",
       "      <th>20651</th>\n",
       "      <td>@ReallyFinance \"Big evil agriculture and capitalism\" IS politics! Logic 101!</td>\n",
       "      <td>big evil agriculture and capitalism is politics logic 101</td>\n",
       "    </tr>\n",
       "    <tr>\n",
       "      <th>8000</th>\n",
       "      <td>If expulsion from a political briefcase outlet like Jubilee and banishment from parliamentary committees is the punishment for those who refuse to be muzzled and enslaved then A FIRING SQUAD is a just punishment for Despot Uhuru Kenyatta who has TERRORIZED KENYANS for 7 years.</td>\n",
       "      <td>if expulsion from a political briefcase outlet like jubilee and banishment from parliamentary committees is the punishment for those who refuse to be muzzled and enslaved then a firing squad is a just punishment for despot uhuru kenyatta who has terrorized kenyans for 7 years</td>\n",
       "    </tr>\n",
       "  </tbody>\n",
       "</table>\n",
       "</div>"
      ],
      "text/plain": [
       "                                                                                                                                                                                                                                                                                        tweet  \\\n",
       "15414                @ntvkenya This crow-eating despotic surrogate criminal suffers from the Nicholas Biwott syndrome of deluding himself that he is the cabinet minister for everything - environment, torture, political assassinations, election theft and Nairobi River! #DespotsMustFall   \n",
       "9201     Even a blind (wo)man can see that Despot Uhuru Kenyatta has sent @WilliamsRuto into internal forced #COVIDー19 exile. Both @realDonaldTrump and Pence have been appearing together in public. Trump appointed Pence the head of the #COVID19 task-force. Ruto: Deal with the reality.   \n",
       "15381  Despot Uhuru Kenyatta and his Kiambu Mafia are only desperate to use the People's Con-Man @RailaOdinga to pass the BBI HandChieth constitutional amendment intended to institutional despotism. If/when passed, @RailaOdinga will wish that he never recovered from his brain illness.   \n",
       "20651                                                                                                                                                                                                            @ReallyFinance \"Big evil agriculture and capitalism\" IS politics! Logic 101!   \n",
       "8000    If expulsion from a political briefcase outlet like Jubilee and banishment from parliamentary committees is the punishment for those who refuse to be muzzled and enslaved then A FIRING SQUAD is a just punishment for Despot Uhuru Kenyatta who has TERRORIZED KENYANS for 7 years.   \n",
       "\n",
       "                                                                                                                                                                                                                                                                                clean_tweet  \n",
       "15414                                             this croweating despotic surrogate criminal suffers from the nicholas biwott syndrome of deluding himself that he is the cabinet minister for everything  environment torture political assassinations election theft and nairobi river    \n",
       "9201                                                     even a blind woman can see that despot uhuru kenyatta has sent   into internal forced   exile both   and pence have been appearing together in public trump appointed pence the head of the   taskforce ruto deal with the reality  \n",
       "15381                            despot uhuru kenyatta and his kiambu mafia are only desperate to use the peoples conman   to pass the bbi handchieth constitutional amendment intended to institutional despotism ifwhen passed   will wish that he never recovered from his brain illness  \n",
       "20651                                                                                                                                                                                                                             big evil agriculture and capitalism is politics logic 101  \n",
       "8000   if expulsion from a political briefcase outlet like jubilee and banishment from parliamentary committees is the punishment for those who refuse to be muzzled and enslaved then a firing squad is a just punishment for despot uhuru kenyatta who has terrorized kenyans for 7 years  "
      ]
     },
     "execution_count": 26,
     "metadata": {},
     "output_type": "execute_result"
    }
   ],
   "source": [
    "# Remove special characters\n",
    "\n",
    "df['clean_tweet'] = df['clean_tweet'].apply(nfx.remove_special_characters)\n",
    "\n",
    "df[['tweet', 'clean_tweet']].sample(5)"
   ]
  },
  {
   "cell_type": "markdown",
   "metadata": {},
   "source": [
    "### <b>3.1.5 <span style='color:#F1A424'>|</span> Multiple Whitespaces</b> "
   ]
  },
  {
   "cell_type": "code",
   "execution_count": 27,
   "metadata": {},
   "outputs": [
    {
     "data": {
      "text/html": [
       "<div>\n",
       "<style scoped>\n",
       "    .dataframe tbody tr th:only-of-type {\n",
       "        vertical-align: middle;\n",
       "    }\n",
       "\n",
       "    .dataframe tbody tr th {\n",
       "        vertical-align: top;\n",
       "    }\n",
       "\n",
       "    .dataframe thead th {\n",
       "        text-align: right;\n",
       "    }\n",
       "</style>\n",
       "<table border=\"1\" class=\"dataframe tex2jax_ignore\">\n",
       "  <thead>\n",
       "    <tr style=\"text-align: right;\">\n",
       "      <th></th>\n",
       "      <th>tweet</th>\n",
       "      <th>clean_tweet</th>\n",
       "    </tr>\n",
       "  </thead>\n",
       "  <tbody>\n",
       "    <tr>\n",
       "      <th>0</th>\n",
       "      <td>Despot Uhuru Kenyatta's olympian performance is in drinking and LOOTING DENS and FUNERAL committees of fallen thieves, tribalists and dictators. That's his 10 year legacy. Kenyans must and will remember and punish him for that dubious legacy on August 9th.   #RejectRailaOdinga</td>\n",
       "      <td>despot uhuru kenyattas olympian performance is in drinking and looting dens and funeral committees of fallen thieves tribalists and dictators thats his 10 year legacy kenyans must and will remember and punish him for that dubious legacy on august 9th</td>\n",
       "    </tr>\n",
       "    <tr>\n",
       "      <th>1</th>\n",
       "      <td>President @NelsonHavi has been my lawyer. We don't agree on many issues. However, he will be the BEST MP for Westlands. Tim Wanyonyi may be a good man. But he is a COWARD and has never LEGISLATED in Parliament. Parliament DESERVES eloquent and brilliant WARRIORS like @NelsonHavi.</td>\n",
       "      <td>president has been my lawyer we dont agree on many issues however he will be the best mp for westlands tim wanyonyi may be a good man but he is a coward and has never legislated in parliament parliament deserves eloquent and brilliant warriors like</td>\n",
       "    </tr>\n",
       "    <tr>\n",
       "      <th>2</th>\n",
       "      <td>You have alleged that Ruto has stolen more than Uhuru Kenyatta. #PandoraPapers disclose that Uhuru Kenyatta has stolen and stashed more than Sh 2.5 TRILLION in 9 nine years. From your argument, it implies that Ruto is a trillionaire. Is he broke or genuinely mourning?</td>\n",
       "      <td>you have alleged that ruto has stolen more than uhuru kenyatta disclose that uhuru kenyatta has stolen and stashed more than sh 25 trillion in 9 nine years from your argument it implies that ruto is a trillionaire is he broke or genuinely mourning</td>\n",
       "    </tr>\n",
       "    <tr>\n",
       "      <th>3</th>\n",
       "      <td>@senator047 @StateHouseKenya Where is credible evidence that it's him? Show a time-stamped image with him inside the vehicle.</td>\n",
       "      <td>where is credible evidence that its him show a timestamped image with him inside the vehicle</td>\n",
       "    </tr>\n",
       "    <tr>\n",
       "      <th>4</th>\n",
       "      <td>@FredrickOwok @elonmusk My Tweet did not say that some white people are not homeless?</td>\n",
       "      <td>my tweet did not say that some white people are not homeless</td>\n",
       "    </tr>\n",
       "  </tbody>\n",
       "</table>\n",
       "</div>"
      ],
      "text/plain": [
       "                                                                                                                                                                                                                                                                                      tweet  \\\n",
       "0     Despot Uhuru Kenyatta's olympian performance is in drinking and LOOTING DENS and FUNERAL committees of fallen thieves, tribalists and dictators. That's his 10 year legacy. Kenyans must and will remember and punish him for that dubious legacy on August 9th.   #RejectRailaOdinga   \n",
       "1  President @NelsonHavi has been my lawyer. We don't agree on many issues. However, he will be the BEST MP for Westlands. Tim Wanyonyi may be a good man. But he is a COWARD and has never LEGISLATED in Parliament. Parliament DESERVES eloquent and brilliant WARRIORS like @NelsonHavi.   \n",
       "2              You have alleged that Ruto has stolen more than Uhuru Kenyatta. #PandoraPapers disclose that Uhuru Kenyatta has stolen and stashed more than Sh 2.5 TRILLION in 9 nine years. From your argument, it implies that Ruto is a trillionaire. Is he broke or genuinely mourning?   \n",
       "3                                                                                                                                                             @senator047 @StateHouseKenya Where is credible evidence that it's him? Show a time-stamped image with him inside the vehicle.   \n",
       "4                                                                                                                                                                                                     @FredrickOwok @elonmusk My Tweet did not say that some white people are not homeless?   \n",
       "\n",
       "                                                                                                                                                                                                                                                   clean_tweet  \n",
       "0  despot uhuru kenyattas olympian performance is in drinking and looting dens and funeral committees of fallen thieves tribalists and dictators thats his 10 year legacy kenyans must and will remember and punish him for that dubious legacy on august 9th   \n",
       "1    president has been my lawyer we dont agree on many issues however he will be the best mp for westlands tim wanyonyi may be a good man but he is a coward and has never legislated in parliament parliament deserves eloquent and brilliant warriors like   \n",
       "2      you have alleged that ruto has stolen more than uhuru kenyatta disclose that uhuru kenyatta has stolen and stashed more than sh 25 trillion in 9 nine years from your argument it implies that ruto is a trillionaire is he broke or genuinely mourning  \n",
       "3                                                                                                                                                                 where is credible evidence that its him show a timestamped image with him inside the vehicle  \n",
       "4                                                                                                                                                                                                 my tweet did not say that some white people are not homeless  "
      ]
     },
     "execution_count": 27,
     "metadata": {},
     "output_type": "execute_result"
    }
   ],
   "source": [
    "# Remove whitespaces\n",
    "df['clean_tweet'] = df['clean_tweet'].apply(nfx.remove_multiple_spaces)\n",
    "\n",
    "df[['tweet', 'clean_tweet']].head()"
   ]
  },
  {
   "cell_type": "markdown",
   "metadata": {},
   "source": [
    "### <b>3.1.6 <span style='color:#F1A424'>|</span> Emojis</b> "
   ]
  },
  {
   "cell_type": "code",
   "execution_count": 28,
   "metadata": {},
   "outputs": [
    {
     "data": {
      "text/html": [
       "<div>\n",
       "<style scoped>\n",
       "    .dataframe tbody tr th:only-of-type {\n",
       "        vertical-align: middle;\n",
       "    }\n",
       "\n",
       "    .dataframe tbody tr th {\n",
       "        vertical-align: top;\n",
       "    }\n",
       "\n",
       "    .dataframe thead th {\n",
       "        text-align: right;\n",
       "    }\n",
       "</style>\n",
       "<table border=\"1\" class=\"dataframe tex2jax_ignore\">\n",
       "  <thead>\n",
       "    <tr style=\"text-align: right;\">\n",
       "      <th></th>\n",
       "      <th>tweet</th>\n",
       "      <th>clean_tweet</th>\n",
       "    </tr>\n",
       "  </thead>\n",
       "  <tbody>\n",
       "    <tr>\n",
       "      <th>15297</th>\n",
       "      <td>@Hon_Brayo Join, stay disciplined, focused, fearless and fully committed. Viva! #despotsmustfall</td>\n",
       "      <td>join stay disciplined focused fearless and fully committed viva</td>\n",
       "    </tr>\n",
       "    <tr>\n",
       "      <th>14674</th>\n",
       "      <td>@antifragilistaa Fictional characters represent what? Kunta Kinte, Okonkwo or Amalinze the Cat were once real PEOPLE whose identities were concealed for artistic reasons unless you don't understand literature. Alex Haley or Achebe did not create Kunta Kinte or Okonkwo. They told their stories.</td>\n",
       "      <td>fictional characters represent what kunta kinte okonkwo or amalinze the cat were once real people whose identities were concealed for artistic reasons unless you dont understand literature alex haley or achebe did not create kunta kinte or okonkwo they told their stories</td>\n",
       "    </tr>\n",
       "    <tr>\n",
       "      <th>2296</th>\n",
       "      <td>When even the @IEBCKenya chairman, Wafula Chebukati, exhibits more COURAGE than the Chief Justice of the Republic and President of the Supreme Court by removing himself from the National Multi-Sectoral Consultative Forum on ELECTION THEFT, we know that the Despot is CORNERED.</td>\n",
       "      <td>when even the chairman wafula chebukati exhibits more courage than the chief justice of the republic and president of the supreme court by removing himself from the national multisectoral consultative forum on election theft we know that the despot is cornered</td>\n",
       "    </tr>\n",
       "    <tr>\n",
       "      <th>19659</th>\n",
       "      <td>@EricAshanda @gathara @DavidNdii Books are published to be sold and read. I've not stopped anyone from publishing and selling theirs.</td>\n",
       "      <td>books are published to be sold and read ive not stopped anyone from publishing and selling theirs</td>\n",
       "    </tr>\n",
       "    <tr>\n",
       "      <th>14001</th>\n",
       "      <td>@WafulahC Car owners do that daily. They park their vehicles even in recreational parks and sit at the back. The same thing she did. The stupid idea of \"retreat\" is childish. No one can \"retreat\" when the vehicle is sinking and the people inside the vehicle are drowning. Think!</td>\n",
       "      <td>car owners do that daily they park their vehicles even in recreational parks and sit at the back the same thing she did the stupid idea of retreat is childish no one can retreat when the vehicle is sinking and the people inside the vehicle are drowning think</td>\n",
       "    </tr>\n",
       "  </tbody>\n",
       "</table>\n",
       "</div>"
      ],
      "text/plain": [
       "                                                                                                                                                                                                                                                                                                        tweet  \\\n",
       "15297                                                                                                                                                                                                        @Hon_Brayo Join, stay disciplined, focused, fearless and fully committed. Viva! #despotsmustfall   \n",
       "14674  @antifragilistaa Fictional characters represent what? Kunta Kinte, Okonkwo or Amalinze the Cat were once real PEOPLE whose identities were concealed for artistic reasons unless you don't understand literature. Alex Haley or Achebe did not create Kunta Kinte or Okonkwo. They told their stories.   \n",
       "2296                     When even the @IEBCKenya chairman, Wafula Chebukati, exhibits more COURAGE than the Chief Justice of the Republic and President of the Supreme Court by removing himself from the National Multi-Sectoral Consultative Forum on ELECTION THEFT, we know that the Despot is CORNERED.   \n",
       "19659                                                                                                                                                                   @EricAshanda @gathara @DavidNdii Books are published to be sold and read. I've not stopped anyone from publishing and selling theirs.   \n",
       "14001                  @WafulahC Car owners do that daily. They park their vehicles even in recreational parks and sit at the back. The same thing she did. The stupid idea of \"retreat\" is childish. No one can \"retreat\" when the vehicle is sinking and the people inside the vehicle are drowning. Think!   \n",
       "\n",
       "                                                                                                                                                                                                                                                                            clean_tweet  \n",
       "15297                                                                                                                                                                                                                  join stay disciplined focused fearless and fully committed viva   \n",
       "14674   fictional characters represent what kunta kinte okonkwo or amalinze the cat were once real people whose identities were concealed for artistic reasons unless you dont understand literature alex haley or achebe did not create kunta kinte or okonkwo they told their stories  \n",
       "2296               when even the chairman wafula chebukati exhibits more courage than the chief justice of the republic and president of the supreme court by removing himself from the national multisectoral consultative forum on election theft we know that the despot is cornered  \n",
       "19659                                                                                                                                                                                 books are published to be sold and read ive not stopped anyone from publishing and selling theirs  \n",
       "14001                car owners do that daily they park their vehicles even in recreational parks and sit at the back the same thing she did the stupid idea of retreat is childish no one can retreat when the vehicle is sinking and the people inside the vehicle are drowning think  "
      ]
     },
     "execution_count": 28,
     "metadata": {},
     "output_type": "execute_result"
    }
   ],
   "source": [
    "# Remove emojis\n",
    "df['clean_tweet'] = df['clean_tweet'].apply(nfx.remove_emojis)\n",
    "\n",
    "df[['tweet', 'clean_tweet']].sample(5)"
   ]
  },
  {
   "cell_type": "markdown",
   "metadata": {},
   "source": [
    "### <b>3.1.7 <span style='color:#F1A424'>|</span> Contractions</b> "
   ]
  },
  {
   "cell_type": "code",
   "execution_count": 29,
   "metadata": {},
   "outputs": [
    {
     "data": {
      "text/html": [
       "<div>\n",
       "<style scoped>\n",
       "    .dataframe tbody tr th:only-of-type {\n",
       "        vertical-align: middle;\n",
       "    }\n",
       "\n",
       "    .dataframe tbody tr th {\n",
       "        vertical-align: top;\n",
       "    }\n",
       "\n",
       "    .dataframe thead th {\n",
       "        text-align: right;\n",
       "    }\n",
       "</style>\n",
       "<table border=\"1\" class=\"dataframe tex2jax_ignore\">\n",
       "  <thead>\n",
       "    <tr style=\"text-align: right;\">\n",
       "      <th></th>\n",
       "      <th>tweet</th>\n",
       "      <th>clean_tweet</th>\n",
       "    </tr>\n",
       "  </thead>\n",
       "  <tbody>\n",
       "    <tr>\n",
       "      <th>0</th>\n",
       "      <td>Despot Uhuru Kenyatta's olympian performance is in drinking and LOOTING DENS and FUNERAL committees of fallen thieves, tribalists and dictators. That's his 10 year legacy. Kenyans must and will remember and punish him for that dubious legacy on August 9th.   #RejectRailaOdinga</td>\n",
       "      <td>despot uhuru kenyattas olympian performance is in drinking and looting dens and funeral committees of fallen thieves tribalists and dictators that is his 10 year legacy kenyans must and will remember and punish him for that dubious legacy on august 9th</td>\n",
       "    </tr>\n",
       "    <tr>\n",
       "      <th>1</th>\n",
       "      <td>President @NelsonHavi has been my lawyer. We don't agree on many issues. However, he will be the BEST MP for Westlands. Tim Wanyonyi may be a good man. But he is a COWARD and has never LEGISLATED in Parliament. Parliament DESERVES eloquent and brilliant WARRIORS like @NelsonHavi.</td>\n",
       "      <td>president has been my lawyer we do not agree on many issues however he will be the best mp for westlands tim wanyonyi may be a good man but he is a coward and has never legislated in parliament parliament deserves eloquent and brilliant warriors like</td>\n",
       "    </tr>\n",
       "    <tr>\n",
       "      <th>2</th>\n",
       "      <td>You have alleged that Ruto has stolen more than Uhuru Kenyatta. #PandoraPapers disclose that Uhuru Kenyatta has stolen and stashed more than Sh 2.5 TRILLION in 9 nine years. From your argument, it implies that Ruto is a trillionaire. Is he broke or genuinely mourning?</td>\n",
       "      <td>you have alleged that ruto has stolen more than uhuru kenyatta disclose that uhuru kenyatta has stolen and stashed more than sh 25 trillion in 9 nine years from your argument it implies that ruto is a trillionaire is he broke or genuinely mourning</td>\n",
       "    </tr>\n",
       "    <tr>\n",
       "      <th>3</th>\n",
       "      <td>@senator047 @StateHouseKenya Where is credible evidence that it's him? Show a time-stamped image with him inside the vehicle.</td>\n",
       "      <td>where is credible evidence that its him show a timestamped image with him inside the vehicle</td>\n",
       "    </tr>\n",
       "    <tr>\n",
       "      <th>4</th>\n",
       "      <td>@FredrickOwok @elonmusk My Tweet did not say that some white people are not homeless?</td>\n",
       "      <td>my tweet did not say that some white people are not homeless</td>\n",
       "    </tr>\n",
       "  </tbody>\n",
       "</table>\n",
       "</div>"
      ],
      "text/plain": [
       "                                                                                                                                                                                                                                                                                      tweet  \\\n",
       "0     Despot Uhuru Kenyatta's olympian performance is in drinking and LOOTING DENS and FUNERAL committees of fallen thieves, tribalists and dictators. That's his 10 year legacy. Kenyans must and will remember and punish him for that dubious legacy on August 9th.   #RejectRailaOdinga   \n",
       "1  President @NelsonHavi has been my lawyer. We don't agree on many issues. However, he will be the BEST MP for Westlands. Tim Wanyonyi may be a good man. But he is a COWARD and has never LEGISLATED in Parliament. Parliament DESERVES eloquent and brilliant WARRIORS like @NelsonHavi.   \n",
       "2              You have alleged that Ruto has stolen more than Uhuru Kenyatta. #PandoraPapers disclose that Uhuru Kenyatta has stolen and stashed more than Sh 2.5 TRILLION in 9 nine years. From your argument, it implies that Ruto is a trillionaire. Is he broke or genuinely mourning?   \n",
       "3                                                                                                                                                             @senator047 @StateHouseKenya Where is credible evidence that it's him? Show a time-stamped image with him inside the vehicle.   \n",
       "4                                                                                                                                                                                                     @FredrickOwok @elonmusk My Tweet did not say that some white people are not homeless?   \n",
       "\n",
       "                                                                                                                                                                                                                                                     clean_tweet  \n",
       "0  despot uhuru kenyattas olympian performance is in drinking and looting dens and funeral committees of fallen thieves tribalists and dictators that is his 10 year legacy kenyans must and will remember and punish him for that dubious legacy on august 9th   \n",
       "1    president has been my lawyer we do not agree on many issues however he will be the best mp for westlands tim wanyonyi may be a good man but he is a coward and has never legislated in parliament parliament deserves eloquent and brilliant warriors like   \n",
       "2        you have alleged that ruto has stolen more than uhuru kenyatta disclose that uhuru kenyatta has stolen and stashed more than sh 25 trillion in 9 nine years from your argument it implies that ruto is a trillionaire is he broke or genuinely mourning  \n",
       "3                                                                                                                                                                   where is credible evidence that its him show a timestamped image with him inside the vehicle  \n",
       "4                                                                                                                                                                                                   my tweet did not say that some white people are not homeless  "
      ]
     },
     "execution_count": 29,
     "metadata": {},
     "output_type": "execute_result"
    }
   ],
   "source": [
    "import contractions\n",
    "\n",
    "# Apply the contractions.fix function to the clean_tweet column\n",
    "df['clean_tweet'] = df['clean_tweet'].apply(contractions.fix)\n",
    "\n",
    "df[['tweet', 'clean_tweet']].head()"
   ]
  },
  {
   "cell_type": "markdown",
   "metadata": {},
   "source": [
    "### <b>3.1.8 <span style='color:#F1A424'>|</span> Stopwords</b> "
   ]
  },
  {
   "cell_type": "code",
   "execution_count": 30,
   "metadata": {},
   "outputs": [
    {
     "data": {
      "text/plain": [
       "0                                                 [is, in, and, and, of, and, that, is, his, must, and, will, and, him, for, that, on]\n",
       "1        [has, been, my, we, do, not, on, many, however, he, will, be, the, for, may, be, a, but, he, is, a, and, has, never, in, and]\n",
       "2                    [you, have, that, has, more, than, that, has, and, more, than, in, nine, from, your, it, that, is, a, is, he, or]\n",
       "3                                                                                 [where, is, that, its, him, show, a, with, him, the]\n",
       "4                                                                                            [my, did, not, say, that, some, are, not]\n",
       "                                                                     ...                                                              \n",
       "21774            [those, were, not, they, were, within, the, not, every, is, and, by, anyone, who, the, in, and, do, not, what, a, is]\n",
       "21775     [the, only, i, are, those, of, and, the, only, i, are, the, only, i, are, those, of, and, our, is, and, we, will, not, your]\n",
       "21776                                                                          [i, will, not, and, cannot, my, is, to, of, every, and]\n",
       "21777                   [on, i, have, one, to, do, not, if, you, are, not, a, and, or, is, the, first, to, is, and, everyone, who, or]\n",
       "21778                                 [you, have, a, and, them, there, are, you, whereas, the, are, less, than, being, a, is, the, of]\n",
       "Name: clean_tweet, Length: 21692, dtype: object"
      ]
     },
     "execution_count": 30,
     "metadata": {},
     "output_type": "execute_result"
    }
   ],
   "source": [
    "# Extract stopwords\n",
    "df['clean_tweet'].apply(lambda x: nt.TextExtractor(x).extract_stopwords())"
   ]
  },
  {
   "cell_type": "code",
   "execution_count": 31,
   "metadata": {},
   "outputs": [
    {
     "data": {
      "text/html": [
       "<div>\n",
       "<style scoped>\n",
       "    .dataframe tbody tr th:only-of-type {\n",
       "        vertical-align: middle;\n",
       "    }\n",
       "\n",
       "    .dataframe tbody tr th {\n",
       "        vertical-align: top;\n",
       "    }\n",
       "\n",
       "    .dataframe thead th {\n",
       "        text-align: right;\n",
       "    }\n",
       "</style>\n",
       "<table border=\"1\" class=\"dataframe tex2jax_ignore\">\n",
       "  <thead>\n",
       "    <tr style=\"text-align: right;\">\n",
       "      <th></th>\n",
       "      <th>tweet</th>\n",
       "      <th>clean_tweet</th>\n",
       "    </tr>\n",
       "  </thead>\n",
       "  <tbody>\n",
       "    <tr>\n",
       "      <th>0</th>\n",
       "      <td>Despot Uhuru Kenyatta's olympian performance is in drinking and LOOTING DENS and FUNERAL committees of fallen thieves, tribalists and dictators. That's his 10 year legacy. Kenyans must and will remember and punish him for that dubious legacy on August 9th.   #RejectRailaOdinga</td>\n",
       "      <td>despot uhuru kenyattas olympian performance drinking looting dens funeral committees fallen thieves tribalists dictators 10 year legacy kenyans remember punish dubious legacy august 9th</td>\n",
       "    </tr>\n",
       "    <tr>\n",
       "      <th>1</th>\n",
       "      <td>President @NelsonHavi has been my lawyer. We don't agree on many issues. However, he will be the BEST MP for Westlands. Tim Wanyonyi may be a good man. But he is a COWARD and has never LEGISLATED in Parliament. Parliament DESERVES eloquent and brilliant WARRIORS like @NelsonHavi.</td>\n",
       "      <td>president lawyer agree issues best mp westlands tim wanyonyi good man coward legislated parliament parliament deserves eloquent brilliant warriors like</td>\n",
       "    </tr>\n",
       "    <tr>\n",
       "      <th>2</th>\n",
       "      <td>You have alleged that Ruto has stolen more than Uhuru Kenyatta. #PandoraPapers disclose that Uhuru Kenyatta has stolen and stashed more than Sh 2.5 TRILLION in 9 nine years. From your argument, it implies that Ruto is a trillionaire. Is he broke or genuinely mourning?</td>\n",
       "      <td>alleged ruto stolen uhuru kenyatta disclose uhuru kenyatta stolen stashed sh 25 trillion 9 years argument implies ruto trillionaire broke genuinely mourning</td>\n",
       "    </tr>\n",
       "    <tr>\n",
       "      <th>3</th>\n",
       "      <td>@senator047 @StateHouseKenya Where is credible evidence that it's him? Show a time-stamped image with him inside the vehicle.</td>\n",
       "      <td>credible evidence timestamped image inside vehicle</td>\n",
       "    </tr>\n",
       "    <tr>\n",
       "      <th>4</th>\n",
       "      <td>@FredrickOwok @elonmusk My Tweet did not say that some white people are not homeless?</td>\n",
       "      <td>tweet white people homeless</td>\n",
       "    </tr>\n",
       "  </tbody>\n",
       "</table>\n",
       "</div>"
      ],
      "text/plain": [
       "                                                                                                                                                                                                                                                                                      tweet  \\\n",
       "0     Despot Uhuru Kenyatta's olympian performance is in drinking and LOOTING DENS and FUNERAL committees of fallen thieves, tribalists and dictators. That's his 10 year legacy. Kenyans must and will remember and punish him for that dubious legacy on August 9th.   #RejectRailaOdinga   \n",
       "1  President @NelsonHavi has been my lawyer. We don't agree on many issues. However, he will be the BEST MP for Westlands. Tim Wanyonyi may be a good man. But he is a COWARD and has never LEGISLATED in Parliament. Parliament DESERVES eloquent and brilliant WARRIORS like @NelsonHavi.   \n",
       "2              You have alleged that Ruto has stolen more than Uhuru Kenyatta. #PandoraPapers disclose that Uhuru Kenyatta has stolen and stashed more than Sh 2.5 TRILLION in 9 nine years. From your argument, it implies that Ruto is a trillionaire. Is he broke or genuinely mourning?   \n",
       "3                                                                                                                                                             @senator047 @StateHouseKenya Where is credible evidence that it's him? Show a time-stamped image with him inside the vehicle.   \n",
       "4                                                                                                                                                                                                     @FredrickOwok @elonmusk My Tweet did not say that some white people are not homeless?   \n",
       "\n",
       "                                                                                                                                                                                 clean_tweet  \n",
       "0  despot uhuru kenyattas olympian performance drinking looting dens funeral committees fallen thieves tribalists dictators 10 year legacy kenyans remember punish dubious legacy august 9th  \n",
       "1                                    president lawyer agree issues best mp westlands tim wanyonyi good man coward legislated parliament parliament deserves eloquent brilliant warriors like  \n",
       "2                               alleged ruto stolen uhuru kenyatta disclose uhuru kenyatta stolen stashed sh 25 trillion 9 years argument implies ruto trillionaire broke genuinely mourning  \n",
       "3                                                                                                                                         credible evidence timestamped image inside vehicle  \n",
       "4                                                                                                                                                                tweet white people homeless  "
      ]
     },
     "execution_count": 31,
     "metadata": {},
     "output_type": "execute_result"
    }
   ],
   "source": [
    "# Remove the stop words\n",
    "\n",
    "df['clean_tweet'] = df['clean_tweet'].apply(nfx.remove_stopwords)\n",
    "\n",
    "df[['tweet', 'clean_tweet']].head()"
   ]
  },
  {
   "cell_type": "code",
   "execution_count": 32,
   "metadata": {},
   "outputs": [
    {
     "data": {
      "text/plain": [
       "0        0\n",
       "1        0\n",
       "2        0\n",
       "3        0\n",
       "4        0\n",
       "        ..\n",
       "21774    0\n",
       "21775    0\n",
       "21776    0\n",
       "21777    0\n",
       "21778    0\n",
       "Name: clean_tweet, Length: 21692, dtype: int64"
      ]
     },
     "execution_count": 32,
     "metadata": {},
     "output_type": "execute_result"
    }
   ],
   "source": [
    "# Noise Scan after cleaning text\n",
    "df['clean_tweet'].apply(lambda x: nt.TextFrame(x).noise_scan()['text_noise'])"
   ]
  },
  {
   "cell_type": "markdown",
   "metadata": {},
   "source": [
    "## <b>3.2 <span style='color:#F1A424'>|</span> Linguistic Processing (Clean Text)</b> \n",
    "\n",
    "+ Tokenization\n",
    "+ Stemming / Lemmatization\n",
    "+ Parts of Speech Tagging\n",
    "+ Calculating Sentiment Based on Polarity & Subjectivity"
   ]
  },
  {
   "cell_type": "markdown",
   "metadata": {},
   "source": [
    "### <b>3.2.1 <span style='color:#F1A424'>|</span> Tokenization</b> "
   ]
  },
  {
   "cell_type": "code",
   "execution_count": 33,
   "metadata": {},
   "outputs": [
    {
     "data": {
      "text/plain": [
       "'conman sycophants abusing telling despot kenyatta castrated numbed brains zombies apologize kenyans stealing sh 11 billion apologize polluting air'"
      ]
     },
     "execution_count": 33,
     "metadata": {},
     "output_type": "execute_result"
    }
   ],
   "source": [
    "test_sample = df['clean_tweet'].loc[12827]\n",
    "\n",
    "test_sample"
   ]
  },
  {
   "cell_type": "code",
   "execution_count": 34,
   "metadata": {},
   "outputs": [
    {
     "data": {
      "text/plain": [
       "['conman',\n",
       " 'sycophants',\n",
       " 'abusing',\n",
       " 'telling',\n",
       " 'despot',\n",
       " 'kenyatta',\n",
       " 'castrated',\n",
       " 'numbed',\n",
       " 'brains',\n",
       " 'zombies',\n",
       " 'apologize',\n",
       " 'kenyans',\n",
       " 'stealing',\n",
       " 'sh',\n",
       " '11',\n",
       " 'billion',\n",
       " 'apologize',\n",
       " 'polluting',\n",
       " 'air']"
      ]
     },
     "execution_count": 34,
     "metadata": {},
     "output_type": "execute_result"
    }
   ],
   "source": [
    "from nltk.tokenize import RegexpTokenizer\n",
    "\n",
    "basic_token_pattern = r\"(?u)\\b\\w\\w+\\b\"\n",
    "\n",
    "tokenizer = RegexpTokenizer(basic_token_pattern)\n",
    "\n",
    "tokenizer.tokenize(test_sample)"
   ]
  },
  {
   "cell_type": "code",
   "execution_count": 35,
   "metadata": {},
   "outputs": [],
   "source": [
    "# Tokenise the clean_tweet column\n",
    "df['preprocessed_tweet'] = df['clean_tweet'].apply(lambda x: tokenizer.tokenize(x))\n",
    "\n",
    "# df.iloc[100][\"preprocessed_tweet\"][:20]"
   ]
  },
  {
   "cell_type": "code",
   "execution_count": 36,
   "metadata": {},
   "outputs": [
    {
     "data": {
      "text/plain": [
       "clean_tweet                           impunity sycophants tell despot uhuru kenyatta young going main target conman telling conman old cowardly\n",
       "preprocessed_tweet    [impunity, sycophants, tell, despot, uhuru, kenyatta, young, going, main, target, conman, telling, conman, old, cowardly]\n",
       "Name: 180, dtype: object"
      ]
     },
     "execution_count": 36,
     "metadata": {},
     "output_type": "execute_result"
    }
   ],
   "source": [
    "df[['clean_tweet', 'preprocessed_tweet']].iloc[100]"
   ]
  },
  {
   "cell_type": "markdown",
   "metadata": {},
   "source": [
    "### <b>3.2.2 <span style='color:#F1A424'>|</span> Lemmatization</b> "
   ]
  },
  {
   "cell_type": "code",
   "execution_count": 37,
   "metadata": {},
   "outputs": [],
   "source": [
    "# Define a function to lemmatise the tokens\n",
    "def lemmatise_tokens(tokens):\n",
    "    lemmatizer = nltk.stem.WordNetLemmatizer()\n",
    "    lemmatized_tokens = [lemmatizer.lemmatize(token) for token in tokens]\n",
    "    return lemmatized_tokens\n",
    "\n",
    "# Lemmatise the tokens\n",
    "df['lemma_preprocessed_tweet'] = df['preprocessed_tweet'].apply(lambda x: lemmatise_tokens(x))\n",
    "\n",
    "# df.iloc[100][\"preprocessed_tweet\"][:20]\n",
    "    "
   ]
  },
  {
   "cell_type": "code",
   "execution_count": 38,
   "metadata": {},
   "outputs": [
    {
     "data": {
      "text/plain": [
       "clean_tweet                                     memo despot uhuru kenyatta 21st century 18th 80 voters youth women 70 year old kikuyu men carrying circumcision knives surrender failed\n",
       "lemma_preprocessed_tweet    [memo, despot, uhuru, kenyatta, 21st, century, 18th, 80, voter, youth, woman, 70, year, old, kikuyu, men, carrying, circumcision, knife, surrender, failed]\n",
       "Name: 340, dtype: object"
      ]
     },
     "execution_count": 38,
     "metadata": {},
     "output_type": "execute_result"
    }
   ],
   "source": [
    "df[['clean_tweet', 'lemma_preprocessed_tweet']].iloc[260]"
   ]
  },
  {
   "cell_type": "code",
   "execution_count": 39,
   "metadata": {},
   "outputs": [],
   "source": [
    "# Define a function to stem the tokens\n",
    "def stem_tokens(tokens):\n",
    "    stemmer = nltk.stem.PorterStemmer()\n",
    "    stemmed_tokens = [stemmer.stem(token) for token in tokens]\n",
    "    return stemmed_tokens\n",
    "\n",
    "# Stem the tokens\n",
    "df['stemma_preprocessed_tweet'] = df['preprocessed_tweet'].apply(lambda x: stem_tokens(x))\n",
    "\n",
    "# df.iloc[100][\"preprocessed_tweet\"][:20]"
   ]
  },
  {
   "cell_type": "code",
   "execution_count": 40,
   "metadata": {},
   "outputs": [
    {
     "data": {
      "text/plain": [
       "clean_tweet                     trying untangle conspiracy question ask answer gained scheme fictitious attack conman soy intended gain sympathy votes unfortunately 1000000 miles ahead\n",
       "stemma_preprocessed_tweet    [tri, untangl, conspiraci, question, ask, answer, gain, scheme, fictiti, attack, conman, soy, intend, gain, sympathi, vote, unfortun, 1000000, mile, ahead]\n",
       "Name: 280, dtype: object"
      ]
     },
     "execution_count": 40,
     "metadata": {},
     "output_type": "execute_result"
    }
   ],
   "source": [
    "df[['clean_tweet', 'stemma_preprocessed_tweet']].iloc[200]"
   ]
  },
  {
   "cell_type": "markdown",
   "metadata": {},
   "source": [
    "### <b>3.2.3 <span style='color:#F1A424'>|</span> Calculating Sentiment Based on Polarity & Subjectivity</b>\n",
    "\n",
    "TextBlob is a Python library for processing textual data, including sentiment analysis. It uses natural language processing (NLP) and the Natural Language Toolkit (NLTK) to achieve its tasks. When a sentence is passed into TextBlob, it returns two outputs: polarity and subjectivity. The polarity score is a float within the range [-1, 1], where -1 indicates a negative sentiment and 1 indicates a positive sentiment. The subjectivity score is a float within the range, where 0 is very objective and 1 is very subjective."
   ]
  },
  {
   "cell_type": "code",
   "execution_count": 41,
   "metadata": {},
   "outputs": [
    {
     "data": {
      "text/html": [
       "<div>\n",
       "<style scoped>\n",
       "    .dataframe tbody tr th:only-of-type {\n",
       "        vertical-align: middle;\n",
       "    }\n",
       "\n",
       "    .dataframe tbody tr th {\n",
       "        vertical-align: top;\n",
       "    }\n",
       "\n",
       "    .dataframe thead th {\n",
       "        text-align: right;\n",
       "    }\n",
       "</style>\n",
       "<table border=\"1\" class=\"dataframe tex2jax_ignore\">\n",
       "  <thead>\n",
       "    <tr style=\"text-align: right;\">\n",
       "      <th></th>\n",
       "      <th>clean_tweet</th>\n",
       "      <th>Subjectivity</th>\n",
       "      <th>Polarity</th>\n",
       "    </tr>\n",
       "  </thead>\n",
       "  <tbody>\n",
       "    <tr>\n",
       "      <th>0</th>\n",
       "      <td>despot uhuru kenyattas olympian performance drinking looting dens funeral committees fallen thieves tribalists dictators 10 year legacy kenyans remember punish dubious legacy august 9th</td>\n",
       "      <td>0.000000</td>\n",
       "      <td>0.000000</td>\n",
       "    </tr>\n",
       "    <tr>\n",
       "      <th>1</th>\n",
       "      <td>president lawyer agree issues best mp westlands tim wanyonyi good man coward legislated parliament parliament deserves eloquent brilliant warriors like</td>\n",
       "      <td>0.633333</td>\n",
       "      <td>0.866667</td>\n",
       "    </tr>\n",
       "    <tr>\n",
       "      <th>2</th>\n",
       "      <td>alleged ruto stolen uhuru kenyatta disclose uhuru kenyatta stolen stashed sh 25 trillion 9 years argument implies ruto trillionaire broke genuinely mourning</td>\n",
       "      <td>0.300000</td>\n",
       "      <td>0.150000</td>\n",
       "    </tr>\n",
       "    <tr>\n",
       "      <th>3</th>\n",
       "      <td>credible evidence timestamped image inside vehicle</td>\n",
       "      <td>0.700000</td>\n",
       "      <td>0.400000</td>\n",
       "    </tr>\n",
       "    <tr>\n",
       "      <th>4</th>\n",
       "      <td>tweet white people homeless</td>\n",
       "      <td>0.000000</td>\n",
       "      <td>0.000000</td>\n",
       "    </tr>\n",
       "  </tbody>\n",
       "</table>\n",
       "</div>"
      ],
      "text/plain": [
       "                                                                                                                                                                                 clean_tweet  \\\n",
       "0  despot uhuru kenyattas olympian performance drinking looting dens funeral committees fallen thieves tribalists dictators 10 year legacy kenyans remember punish dubious legacy august 9th   \n",
       "1                                    president lawyer agree issues best mp westlands tim wanyonyi good man coward legislated parliament parliament deserves eloquent brilliant warriors like   \n",
       "2                               alleged ruto stolen uhuru kenyatta disclose uhuru kenyatta stolen stashed sh 25 trillion 9 years argument implies ruto trillionaire broke genuinely mourning   \n",
       "3                                                                                                                                         credible evidence timestamped image inside vehicle   \n",
       "4                                                                                                                                                                tweet white people homeless   \n",
       "\n",
       "   Subjectivity  Polarity  \n",
       "0      0.000000  0.000000  \n",
       "1      0.633333  0.866667  \n",
       "2      0.300000  0.150000  \n",
       "3      0.700000  0.400000  \n",
       "4      0.000000  0.000000  "
      ]
     },
     "execution_count": 41,
     "metadata": {},
     "output_type": "execute_result"
    }
   ],
   "source": [
    "from textblob import TextBlob\n",
    "\n",
    "# Create a function to get the subjectivity\n",
    "def getSubjectivity(text):\n",
    "  return TextBlob(text).sentiment.subjectivity\n",
    "\n",
    "# Create a function to get the polarity\n",
    "def getPolarity(text):\n",
    "  return TextBlob(text).sentiment.polarity\n",
    "\n",
    "# Create two new columns 'Subjectivity' & 'Polarity'\n",
    "df['Subjectivity'] = df['clean_tweet'].apply(getSubjectivity)\n",
    "df['Polarity'] = df['clean_tweet'].apply(getPolarity)\n",
    "\n",
    "# Show the new dataframe with columns 'Subjectivity' & 'Polarity'\n",
    "df[['clean_tweet','Subjectivity','Polarity']].head()"
   ]
  },
  {
   "cell_type": "code",
   "execution_count": 42,
   "metadata": {},
   "outputs": [
    {
     "data": {
      "text/html": [
       "<div>\n",
       "<style scoped>\n",
       "    .dataframe tbody tr th:only-of-type {\n",
       "        vertical-align: middle;\n",
       "    }\n",
       "\n",
       "    .dataframe tbody tr th {\n",
       "        vertical-align: top;\n",
       "    }\n",
       "\n",
       "    .dataframe thead th {\n",
       "        text-align: right;\n",
       "    }\n",
       "</style>\n",
       "<table border=\"1\" class=\"dataframe tex2jax_ignore\">\n",
       "  <thead>\n",
       "    <tr style=\"text-align: right;\">\n",
       "      <th></th>\n",
       "      <th>clean_tweet</th>\n",
       "      <th>Subjectivity</th>\n",
       "      <th>Polarity</th>\n",
       "      <th>sentiment</th>\n",
       "    </tr>\n",
       "  </thead>\n",
       "  <tbody>\n",
       "    <tr>\n",
       "      <th>0</th>\n",
       "      <td>despot uhuru kenyattas olympian performance drinking looting dens funeral committees fallen thieves tribalists dictators 10 year legacy kenyans remember punish dubious legacy august 9th</td>\n",
       "      <td>0.000000</td>\n",
       "      <td>0.000000</td>\n",
       "      <td>Neutral</td>\n",
       "    </tr>\n",
       "    <tr>\n",
       "      <th>1</th>\n",
       "      <td>president lawyer agree issues best mp westlands tim wanyonyi good man coward legislated parliament parliament deserves eloquent brilliant warriors like</td>\n",
       "      <td>0.633333</td>\n",
       "      <td>0.866667</td>\n",
       "      <td>Positive</td>\n",
       "    </tr>\n",
       "    <tr>\n",
       "      <th>2</th>\n",
       "      <td>alleged ruto stolen uhuru kenyatta disclose uhuru kenyatta stolen stashed sh 25 trillion 9 years argument implies ruto trillionaire broke genuinely mourning</td>\n",
       "      <td>0.300000</td>\n",
       "      <td>0.150000</td>\n",
       "      <td>Positive</td>\n",
       "    </tr>\n",
       "    <tr>\n",
       "      <th>3</th>\n",
       "      <td>credible evidence timestamped image inside vehicle</td>\n",
       "      <td>0.700000</td>\n",
       "      <td>0.400000</td>\n",
       "      <td>Positive</td>\n",
       "    </tr>\n",
       "    <tr>\n",
       "      <th>4</th>\n",
       "      <td>tweet white people homeless</td>\n",
       "      <td>0.000000</td>\n",
       "      <td>0.000000</td>\n",
       "      <td>Neutral</td>\n",
       "    </tr>\n",
       "  </tbody>\n",
       "</table>\n",
       "</div>"
      ],
      "text/plain": [
       "                                                                                                                                                                                 clean_tweet  \\\n",
       "0  despot uhuru kenyattas olympian performance drinking looting dens funeral committees fallen thieves tribalists dictators 10 year legacy kenyans remember punish dubious legacy august 9th   \n",
       "1                                    president lawyer agree issues best mp westlands tim wanyonyi good man coward legislated parliament parliament deserves eloquent brilliant warriors like   \n",
       "2                               alleged ruto stolen uhuru kenyatta disclose uhuru kenyatta stolen stashed sh 25 trillion 9 years argument implies ruto trillionaire broke genuinely mourning   \n",
       "3                                                                                                                                         credible evidence timestamped image inside vehicle   \n",
       "4                                                                                                                                                                tweet white people homeless   \n",
       "\n",
       "   Subjectivity  Polarity sentiment  \n",
       "0      0.000000  0.000000   Neutral  \n",
       "1      0.633333  0.866667  Positive  \n",
       "2      0.300000  0.150000  Positive  \n",
       "3      0.700000  0.400000  Positive  \n",
       "4      0.000000  0.000000   Neutral  "
      ]
     },
     "execution_count": 42,
     "metadata": {},
     "output_type": "execute_result"
    }
   ],
   "source": [
    "# Create a function to compute the negative, positive and nuetral analysis\n",
    "def getAnalysis(score):\n",
    "  if score < 0:\n",
    "    return 'Negative'\n",
    "  elif score == 0:\n",
    "    return 'Neutral'\n",
    "  else:\n",
    "    return 'Positive'\n",
    "  \n",
    "df['sentiment'] = df['Polarity'].apply(getAnalysis)\n",
    "\n",
    "# Show the dataframe\n",
    "df[['clean_tweet','Subjectivity','Polarity','sentiment']].head()"
   ]
  },
  {
   "cell_type": "code",
   "execution_count": 43,
   "metadata": {},
   "outputs": [
    {
     "data": {
      "text/plain": [
       "sentiment\n",
       "Neutral     8888\n",
       "Positive    6472\n",
       "Negative    6332\n",
       "Name: count, dtype: int64"
      ]
     },
     "execution_count": 43,
     "metadata": {},
     "output_type": "execute_result"
    }
   ],
   "source": [
    "df['sentiment'].value_counts()"
   ]
  },
  {
   "cell_type": "code",
   "execution_count": 44,
   "metadata": {},
   "outputs": [],
   "source": [
    "# # using VADER\n",
    "# from nltk.sentiment.vader import SentimentIntensityAnalyzer\n",
    "# analyser = SentimentIntensityAnalyzer()\n",
    "\n",
    "# # Create a function to get the sentiment scores\n",
    "# def sentiment_analyzer_scores(text):\n",
    "#     score = analyser.polarity_scores(text)\n",
    "#     return score\n",
    "\n",
    "# # Get the compound sentiment scores\n",
    "# df['compound_sentiment'] = df['clean_tweet'].apply(lambda x: sentiment_analyzer_scores(x)['compound'])\n",
    "\n",
    "# # Get the sentiment scores whereby there is positive, negative and neutral sentiment\n",
    "# df['sentiment'] = df['compound_sentiment'].apply(lambda x: 'positive' if x >= 0.05 else ('negative' if x <= -0.05 else 'neutral'))\n",
    "\n",
    "# df[['clean_tweet', 'compound_sentiment', 'sentiment']].head()"
   ]
  },
  {
   "cell_type": "code",
   "execution_count": 45,
   "metadata": {},
   "outputs": [],
   "source": [
    "# df['sentiment'].value_counts()"
   ]
  },
  {
   "cell_type": "code",
   "execution_count": 46,
   "metadata": {},
   "outputs": [
    {
     "data": {
      "text/plain": [
       "0        [despot, uhuru, kenyattas, olympian, performance, drinking, looting, dens, funeral, committees, fallen, thieves, tribalists, dictators, 10, year, legacy, kenyans, remember, punish, dubious, legacy, august, 9th]\n",
       "1                                              [president, lawyer, agree, issues, best, mp, westlands, tim, wanyonyi, good, man, coward, legislated, parliament, parliament, deserves, eloquent, brilliant, warriors, like]\n",
       "2                                          [alleged, ruto, stolen, uhuru, kenyatta, disclose, uhuru, kenyatta, stolen, stashed, sh, 25, trillion, years, argument, implies, ruto, trillionaire, broke, genuinely, mourning]\n",
       "3                                                                                                                                                                 [credible, evidence, timestamped, image, inside, vehicle]\n",
       "4                                                                                                                                                                                          [tweet, white, people, homeless]\n",
       "                                                                                                                ...                                                                                                        \n",
       "21774                   [revolutions, civilpalace, wars, neocolonial, ranks, uprising, led, guided, revolutionary, ideals, calls, ciaorchestrated, turmoils, somalia, egypt, libya, tunisia, revolutions, know, revolution]\n",
       "21775                  [words, know, struggle, revolution, freedom, songs, sing, revolutionary, freedom, songs, lessons, learn, struggle, revolution, freedom, end, game, freedom, social, justice, integrity, sing, songs]\n",
       "21776                                                                                                                                      [dna, configured, violently, resist, slavery, kind, stupidity, cowardice, greed]\n",
       "21777           [january, 2019, simple, message, kenyan, patriots, comment, patriot, defying, illegitimate, autocratic, authority, persons, step, freedom, respect, earned, defy, resist, steals, kills, mismanages, kenya]\n",
       "21778                                                                          [wrong, brain, energy, use, productively, 50, million, kenyans, like, despots, 2000, think, act, stop, coward, like, 2019, year, revolution]\n",
       "Name: preprocessed_tweet, Length: 21692, dtype: object"
      ]
     },
     "execution_count": 46,
     "metadata": {},
     "output_type": "execute_result"
    }
   ],
   "source": [
    "df['preprocessed_tweet']"
   ]
  },
  {
   "cell_type": "code",
   "execution_count": 47,
   "metadata": {},
   "outputs": [],
   "source": [
    "df['lemma_preprocessed_tweet'] = df['lemma_preprocessed_tweet'].apply(lambda x: ' '.join(x))"
   ]
  },
  {
   "cell_type": "code",
   "execution_count": 48,
   "metadata": {},
   "outputs": [],
   "source": [
    "df['stemma_preprocessed_tweet'] = df['stemma_preprocessed_tweet'].apply(lambda x: ' '.join(x))\n",
    "\n",
    "df['preprocessed_tweet'] = df['preprocessed_tweet'].apply(lambda x: ' '.join(x))"
   ]
  },
  {
   "cell_type": "code",
   "execution_count": 49,
   "metadata": {},
   "outputs": [
    {
     "data": {
      "text/plain": [
       "0        despot uhuru kenyattas olympian performance drinking looting dens funeral committees fallen thieves tribalists dictators 10 year legacy kenyans remember punish dubious legacy august 9th\n",
       "1                                          president lawyer agree issues best mp westlands tim wanyonyi good man coward legislated parliament parliament deserves eloquent brilliant warriors like\n",
       "2                                       alleged ruto stolen uhuru kenyatta disclose uhuru kenyatta stolen stashed sh 25 trillion years argument implies ruto trillionaire broke genuinely mourning\n",
       "3                                                                                                                                               credible evidence timestamped image inside vehicle\n",
       "4                                                                                                                                                                      tweet white people homeless\n",
       "                                                                                                   ...                                                                                            \n",
       "21774               revolutions civilpalace wars neocolonial ranks uprising led guided revolutionary ideals calls ciaorchestrated turmoils somalia egypt libya tunisia revolutions know revolution\n",
       "21775                 words know struggle revolution freedom songs sing revolutionary freedom songs lessons learn struggle revolution freedom end game freedom social justice integrity sing songs\n",
       "21776                                                                                                                       dna configured violently resist slavery kind stupidity cowardice greed\n",
       "21777          january 2019 simple message kenyan patriots comment patriot defying illegitimate autocratic authority persons step freedom respect earned defy resist steals kills mismanages kenya\n",
       "21778                                                                     wrong brain energy use productively 50 million kenyans like despots 2000 think act stop coward like 2019 year revolution\n",
       "Name: preprocessed_tweet, Length: 21692, dtype: object"
      ]
     },
     "execution_count": 49,
     "metadata": {},
     "output_type": "execute_result"
    }
   ],
   "source": [
    "df['preprocessed_tweet']"
   ]
  },
  {
   "cell_type": "code",
   "execution_count": 50,
   "metadata": {},
   "outputs": [
    {
     "name": "stdout",
     "output_type": "stream",
     "text": [
      "<class 'pandas.core.frame.DataFrame'>\n",
      "Index: 21692 entries, 0 to 21778\n",
      "Data columns (total 14 columns):\n",
      " #   Column                     Non-Null Count  Dtype  \n",
      "---  ------                     --------------  -----  \n",
      " 0   id                         21692 non-null  int64  \n",
      " 1   date                       21692 non-null  object \n",
      " 2   username                   21692 non-null  object \n",
      " 3   tweet                      21692 non-null  object \n",
      " 4   clean_tweet                21692 non-null  object \n",
      " 5   userhandle                 21692 non-null  object \n",
      " 6   hashtags                   21692 non-null  object \n",
      " 7   urls                       21692 non-null  object \n",
      " 8   preprocessed_tweet         21692 non-null  object \n",
      " 9   lemma_preprocessed_tweet   21692 non-null  object \n",
      " 10  stemma_preprocessed_tweet  21692 non-null  object \n",
      " 11  Subjectivity               21692 non-null  float64\n",
      " 12  Polarity                   21692 non-null  float64\n",
      " 13  sentiment                  21692 non-null  object \n",
      "dtypes: float64(2), int64(1), object(11)\n",
      "memory usage: 3.0+ MB\n"
     ]
    }
   ],
   "source": [
    "df.info()"
   ]
  },
  {
   "cell_type": "code",
   "execution_count": 78,
   "metadata": {},
   "outputs": [],
   "source": [
    "# save the dataframe to csv using the name 'interim_data.csv' fo the data folder\n",
    "# df.to_csv('interim_data.csv', index=False)"
   ]
  }
 ],
 "metadata": {
  "kernelspec": {
   "display_name": "Python 3",
   "language": "python",
   "name": "python3"
  },
  "language_info": {
   "codemirror_mode": {
    "name": "ipython",
    "version": 3
   },
   "file_extension": ".py",
   "mimetype": "text/x-python",
   "name": "python",
   "nbconvert_exporter": "python",
   "pygments_lexer": "ipython3",
   "version": "3.8.5"
  }
 },
 "nbformat": 4,
 "nbformat_minor": 2
}
